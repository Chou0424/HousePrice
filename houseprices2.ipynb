{
 "cells": [
  {
   "cell_type": "code",
   "execution_count": 1,
   "id": "af5649fa",
   "metadata": {
    "_cell_guid": "b1076dfc-b9ad-4769-8c92-a6c4dae69d19",
    "_uuid": "8f2839f25d086af736a60e9eeb907d3b93b6e0e5",
    "execution": {
     "iopub.execute_input": "2023-06-27T03:39:33.767613Z",
     "iopub.status.busy": "2023-06-27T03:39:33.767052Z",
     "iopub.status.idle": "2023-06-27T03:39:44.840797Z",
     "shell.execute_reply": "2023-06-27T03:39:44.839621Z"
    },
    "papermill": {
     "duration": 11.09622,
     "end_time": "2023-06-27T03:39:44.843668",
     "exception": false,
     "start_time": "2023-06-27T03:39:33.747448",
     "status": "completed"
    },
    "tags": []
   },
   "outputs": [
    {
     "name": "stderr",
     "output_type": "stream",
     "text": [
      "/opt/conda/lib/python3.10/site-packages/tensorflow_io/python/ops/__init__.py:98: UserWarning: unable to load libtensorflow_io_plugins.so: unable to open file: libtensorflow_io_plugins.so, from paths: ['/opt/conda/lib/python3.10/site-packages/tensorflow_io/python/ops/libtensorflow_io_plugins.so']\n",
      "caused by: ['/opt/conda/lib/python3.10/site-packages/tensorflow_io/python/ops/libtensorflow_io_plugins.so: undefined symbol: _ZN3tsl6StatusC1EN10tensorflow5error4CodeESt17basic_string_viewIcSt11char_traitsIcEENS_14SourceLocationE']\n",
      "  warnings.warn(f\"unable to load libtensorflow_io_plugins.so: {e}\")\n",
      "/opt/conda/lib/python3.10/site-packages/tensorflow_io/python/ops/__init__.py:104: UserWarning: file system plugins are not loaded: unable to open file: libtensorflow_io.so, from paths: ['/opt/conda/lib/python3.10/site-packages/tensorflow_io/python/ops/libtensorflow_io.so']\n",
      "caused by: ['/opt/conda/lib/python3.10/site-packages/tensorflow_io/python/ops/libtensorflow_io.so: undefined symbol: _ZTVN10tensorflow13GcsFileSystemE']\n",
      "  warnings.warn(f\"file system plugins are not loaded: {e}\")\n"
     ]
    }
   ],
   "source": [
    "import numpy as np \n",
    "import pandas as pd\n",
    "import matplotlib.pyplot as plt\n",
    "import seaborn as sns\n",
    "import warnings\n",
    "import tensorflow as tf\n",
    "import tensorflow_decision_forests as tfdf\n",
    "\n",
    "%matplotlib inline\n",
    "warnings.filterwarnings('ignore')"
   ]
  },
  {
   "cell_type": "code",
   "execution_count": 2,
   "id": "6cb619ce",
   "metadata": {
    "execution": {
     "iopub.execute_input": "2023-06-27T03:39:44.880131Z",
     "iopub.status.busy": "2023-06-27T03:39:44.879348Z",
     "iopub.status.idle": "2023-06-27T03:39:44.974124Z",
     "shell.execute_reply": "2023-06-27T03:39:44.972887Z"
    },
    "papermill": {
     "duration": 0.115917,
     "end_time": "2023-06-27T03:39:44.976838",
     "exception": false,
     "start_time": "2023-06-27T03:39:44.860921",
     "status": "completed"
    },
    "tags": []
   },
   "outputs": [],
   "source": [
    "## 讀取檔案\n",
    "\n",
    "train = pd.read_csv('/kaggle/input/house-prices-advanced-regression-techniques/train.csv')\n",
    "test = pd.read_csv('/kaggle/input/house-prices-advanced-regression-techniques/test.csv')\n",
    "submit = pd.read_csv('/kaggle/input/house-prices-advanced-regression-techniques/sample_submission.csv')"
   ]
  },
  {
   "cell_type": "code",
   "execution_count": 3,
   "id": "a4df4bd6",
   "metadata": {
    "execution": {
     "iopub.execute_input": "2023-06-27T03:39:45.013100Z",
     "iopub.status.busy": "2023-06-27T03:39:45.012716Z",
     "iopub.status.idle": "2023-06-27T03:39:45.019501Z",
     "shell.execute_reply": "2023-06-27T03:39:45.018650Z"
    },
    "papermill": {
     "duration": 0.027348,
     "end_time": "2023-06-27T03:39:45.021428",
     "exception": false,
     "start_time": "2023-06-27T03:39:44.994080",
     "status": "completed"
    },
    "tags": []
   },
   "outputs": [
    {
     "data": {
      "text/plain": [
       "(1460, 81)"
      ]
     },
     "execution_count": 3,
     "metadata": {},
     "output_type": "execute_result"
    }
   ],
   "source": [
    "## 訓練集大小\n",
    "\n",
    "train.shape"
   ]
  },
  {
   "cell_type": "code",
   "execution_count": 4,
   "id": "668aeb24",
   "metadata": {
    "execution": {
     "iopub.execute_input": "2023-06-27T03:39:45.057500Z",
     "iopub.status.busy": "2023-06-27T03:39:45.057116Z",
     "iopub.status.idle": "2023-06-27T03:39:45.100320Z",
     "shell.execute_reply": "2023-06-27T03:39:45.099403Z"
    },
    "papermill": {
     "duration": 0.063941,
     "end_time": "2023-06-27T03:39:45.102513",
     "exception": false,
     "start_time": "2023-06-27T03:39:45.038572",
     "status": "completed"
    },
    "tags": []
   },
   "outputs": [
    {
     "data": {
      "text/html": [
       "<div>\n",
       "<style scoped>\n",
       "    .dataframe tbody tr th:only-of-type {\n",
       "        vertical-align: middle;\n",
       "    }\n",
       "\n",
       "    .dataframe tbody tr th {\n",
       "        vertical-align: top;\n",
       "    }\n",
       "\n",
       "    .dataframe thead th {\n",
       "        text-align: right;\n",
       "    }\n",
       "</style>\n",
       "<table border=\"1\" class=\"dataframe\">\n",
       "  <thead>\n",
       "    <tr style=\"text-align: right;\">\n",
       "      <th></th>\n",
       "      <th>Id</th>\n",
       "      <th>MSSubClass</th>\n",
       "      <th>MSZoning</th>\n",
       "      <th>LotFrontage</th>\n",
       "      <th>LotArea</th>\n",
       "      <th>Street</th>\n",
       "      <th>Alley</th>\n",
       "      <th>LotShape</th>\n",
       "      <th>LandContour</th>\n",
       "      <th>Utilities</th>\n",
       "      <th>...</th>\n",
       "      <th>PoolArea</th>\n",
       "      <th>PoolQC</th>\n",
       "      <th>Fence</th>\n",
       "      <th>MiscFeature</th>\n",
       "      <th>MiscVal</th>\n",
       "      <th>MoSold</th>\n",
       "      <th>YrSold</th>\n",
       "      <th>SaleType</th>\n",
       "      <th>SaleCondition</th>\n",
       "      <th>SalePrice</th>\n",
       "    </tr>\n",
       "  </thead>\n",
       "  <tbody>\n",
       "    <tr>\n",
       "      <th>0</th>\n",
       "      <td>1</td>\n",
       "      <td>60</td>\n",
       "      <td>RL</td>\n",
       "      <td>65.0</td>\n",
       "      <td>8450</td>\n",
       "      <td>Pave</td>\n",
       "      <td>NaN</td>\n",
       "      <td>Reg</td>\n",
       "      <td>Lvl</td>\n",
       "      <td>AllPub</td>\n",
       "      <td>...</td>\n",
       "      <td>0</td>\n",
       "      <td>NaN</td>\n",
       "      <td>NaN</td>\n",
       "      <td>NaN</td>\n",
       "      <td>0</td>\n",
       "      <td>2</td>\n",
       "      <td>2008</td>\n",
       "      <td>WD</td>\n",
       "      <td>Normal</td>\n",
       "      <td>208500</td>\n",
       "    </tr>\n",
       "    <tr>\n",
       "      <th>1</th>\n",
       "      <td>2</td>\n",
       "      <td>20</td>\n",
       "      <td>RL</td>\n",
       "      <td>80.0</td>\n",
       "      <td>9600</td>\n",
       "      <td>Pave</td>\n",
       "      <td>NaN</td>\n",
       "      <td>Reg</td>\n",
       "      <td>Lvl</td>\n",
       "      <td>AllPub</td>\n",
       "      <td>...</td>\n",
       "      <td>0</td>\n",
       "      <td>NaN</td>\n",
       "      <td>NaN</td>\n",
       "      <td>NaN</td>\n",
       "      <td>0</td>\n",
       "      <td>5</td>\n",
       "      <td>2007</td>\n",
       "      <td>WD</td>\n",
       "      <td>Normal</td>\n",
       "      <td>181500</td>\n",
       "    </tr>\n",
       "    <tr>\n",
       "      <th>2</th>\n",
       "      <td>3</td>\n",
       "      <td>60</td>\n",
       "      <td>RL</td>\n",
       "      <td>68.0</td>\n",
       "      <td>11250</td>\n",
       "      <td>Pave</td>\n",
       "      <td>NaN</td>\n",
       "      <td>IR1</td>\n",
       "      <td>Lvl</td>\n",
       "      <td>AllPub</td>\n",
       "      <td>...</td>\n",
       "      <td>0</td>\n",
       "      <td>NaN</td>\n",
       "      <td>NaN</td>\n",
       "      <td>NaN</td>\n",
       "      <td>0</td>\n",
       "      <td>9</td>\n",
       "      <td>2008</td>\n",
       "      <td>WD</td>\n",
       "      <td>Normal</td>\n",
       "      <td>223500</td>\n",
       "    </tr>\n",
       "  </tbody>\n",
       "</table>\n",
       "<p>3 rows × 81 columns</p>\n",
       "</div>"
      ],
      "text/plain": [
       "   Id  MSSubClass MSZoning  LotFrontage  LotArea Street Alley LotShape  \\\n",
       "0   1          60       RL         65.0     8450   Pave   NaN      Reg   \n",
       "1   2          20       RL         80.0     9600   Pave   NaN      Reg   \n",
       "2   3          60       RL         68.0    11250   Pave   NaN      IR1   \n",
       "\n",
       "  LandContour Utilities  ... PoolArea PoolQC Fence MiscFeature MiscVal MoSold  \\\n",
       "0         Lvl    AllPub  ...        0    NaN   NaN         NaN       0      2   \n",
       "1         Lvl    AllPub  ...        0    NaN   NaN         NaN       0      5   \n",
       "2         Lvl    AllPub  ...        0    NaN   NaN         NaN       0      9   \n",
       "\n",
       "  YrSold  SaleType  SaleCondition  SalePrice  \n",
       "0   2008        WD         Normal     208500  \n",
       "1   2007        WD         Normal     181500  \n",
       "2   2008        WD         Normal     223500  \n",
       "\n",
       "[3 rows x 81 columns]"
      ]
     },
     "execution_count": 4,
     "metadata": {},
     "output_type": "execute_result"
    }
   ],
   "source": [
    "## 觀察train資料\n",
    "\n",
    "train.head(3)"
   ]
  },
  {
   "cell_type": "code",
   "execution_count": 5,
   "id": "40951053",
   "metadata": {
    "execution": {
     "iopub.execute_input": "2023-06-27T03:39:45.139069Z",
     "iopub.status.busy": "2023-06-27T03:39:45.138627Z",
     "iopub.status.idle": "2023-06-27T03:39:45.186867Z",
     "shell.execute_reply": "2023-06-27T03:39:45.185426Z"
    },
    "papermill": {
     "duration": 0.069368,
     "end_time": "2023-06-27T03:39:45.189281",
     "exception": false,
     "start_time": "2023-06-27T03:39:45.119913",
     "status": "completed"
    },
    "tags": []
   },
   "outputs": [
    {
     "name": "stdout",
     "output_type": "stream",
     "text": [
      "<class 'pandas.core.frame.DataFrame'>\n",
      "RangeIndex: 1460 entries, 0 to 1459\n",
      "Data columns (total 81 columns):\n",
      " #   Column         Non-Null Count  Dtype  \n",
      "---  ------         --------------  -----  \n",
      " 0   Id             1460 non-null   int64  \n",
      " 1   MSSubClass     1460 non-null   int64  \n",
      " 2   MSZoning       1460 non-null   object \n",
      " 3   LotFrontage    1201 non-null   float64\n",
      " 4   LotArea        1460 non-null   int64  \n",
      " 5   Street         1460 non-null   object \n",
      " 6   Alley          91 non-null     object \n",
      " 7   LotShape       1460 non-null   object \n",
      " 8   LandContour    1460 non-null   object \n",
      " 9   Utilities      1460 non-null   object \n",
      " 10  LotConfig      1460 non-null   object \n",
      " 11  LandSlope      1460 non-null   object \n",
      " 12  Neighborhood   1460 non-null   object \n",
      " 13  Condition1     1460 non-null   object \n",
      " 14  Condition2     1460 non-null   object \n",
      " 15  BldgType       1460 non-null   object \n",
      " 16  HouseStyle     1460 non-null   object \n",
      " 17  OverallQual    1460 non-null   int64  \n",
      " 18  OverallCond    1460 non-null   int64  \n",
      " 19  YearBuilt      1460 non-null   int64  \n",
      " 20  YearRemodAdd   1460 non-null   int64  \n",
      " 21  RoofStyle      1460 non-null   object \n",
      " 22  RoofMatl       1460 non-null   object \n",
      " 23  Exterior1st    1460 non-null   object \n",
      " 24  Exterior2nd    1460 non-null   object \n",
      " 25  MasVnrType     1452 non-null   object \n",
      " 26  MasVnrArea     1452 non-null   float64\n",
      " 27  ExterQual      1460 non-null   object \n",
      " 28  ExterCond      1460 non-null   object \n",
      " 29  Foundation     1460 non-null   object \n",
      " 30  BsmtQual       1423 non-null   object \n",
      " 31  BsmtCond       1423 non-null   object \n",
      " 32  BsmtExposure   1422 non-null   object \n",
      " 33  BsmtFinType1   1423 non-null   object \n",
      " 34  BsmtFinSF1     1460 non-null   int64  \n",
      " 35  BsmtFinType2   1422 non-null   object \n",
      " 36  BsmtFinSF2     1460 non-null   int64  \n",
      " 37  BsmtUnfSF      1460 non-null   int64  \n",
      " 38  TotalBsmtSF    1460 non-null   int64  \n",
      " 39  Heating        1460 non-null   object \n",
      " 40  HeatingQC      1460 non-null   object \n",
      " 41  CentralAir     1460 non-null   object \n",
      " 42  Electrical     1459 non-null   object \n",
      " 43  1stFlrSF       1460 non-null   int64  \n",
      " 44  2ndFlrSF       1460 non-null   int64  \n",
      " 45  LowQualFinSF   1460 non-null   int64  \n",
      " 46  GrLivArea      1460 non-null   int64  \n",
      " 47  BsmtFullBath   1460 non-null   int64  \n",
      " 48  BsmtHalfBath   1460 non-null   int64  \n",
      " 49  FullBath       1460 non-null   int64  \n",
      " 50  HalfBath       1460 non-null   int64  \n",
      " 51  BedroomAbvGr   1460 non-null   int64  \n",
      " 52  KitchenAbvGr   1460 non-null   int64  \n",
      " 53  KitchenQual    1460 non-null   object \n",
      " 54  TotRmsAbvGrd   1460 non-null   int64  \n",
      " 55  Functional     1460 non-null   object \n",
      " 56  Fireplaces     1460 non-null   int64  \n",
      " 57  FireplaceQu    770 non-null    object \n",
      " 58  GarageType     1379 non-null   object \n",
      " 59  GarageYrBlt    1379 non-null   float64\n",
      " 60  GarageFinish   1379 non-null   object \n",
      " 61  GarageCars     1460 non-null   int64  \n",
      " 62  GarageArea     1460 non-null   int64  \n",
      " 63  GarageQual     1379 non-null   object \n",
      " 64  GarageCond     1379 non-null   object \n",
      " 65  PavedDrive     1460 non-null   object \n",
      " 66  WoodDeckSF     1460 non-null   int64  \n",
      " 67  OpenPorchSF    1460 non-null   int64  \n",
      " 68  EnclosedPorch  1460 non-null   int64  \n",
      " 69  3SsnPorch      1460 non-null   int64  \n",
      " 70  ScreenPorch    1460 non-null   int64  \n",
      " 71  PoolArea       1460 non-null   int64  \n",
      " 72  PoolQC         7 non-null      object \n",
      " 73  Fence          281 non-null    object \n",
      " 74  MiscFeature    54 non-null     object \n",
      " 75  MiscVal        1460 non-null   int64  \n",
      " 76  MoSold         1460 non-null   int64  \n",
      " 77  YrSold         1460 non-null   int64  \n",
      " 78  SaleType       1460 non-null   object \n",
      " 79  SaleCondition  1460 non-null   object \n",
      " 80  SalePrice      1460 non-null   int64  \n",
      "dtypes: float64(3), int64(35), object(43)\n",
      "memory usage: 924.0+ KB\n"
     ]
    }
   ],
   "source": [
    "## 資料檢查\n",
    "\n",
    "train.info()"
   ]
  },
  {
   "cell_type": "code",
   "execution_count": 6,
   "id": "b5c4d27c",
   "metadata": {
    "execution": {
     "iopub.execute_input": "2023-06-27T03:39:45.227618Z",
     "iopub.status.busy": "2023-06-27T03:39:45.227157Z",
     "iopub.status.idle": "2023-06-27T03:39:45.261238Z",
     "shell.execute_reply": "2023-06-27T03:39:45.260106Z"
    },
    "papermill": {
     "duration": 0.056107,
     "end_time": "2023-06-27T03:39:45.263673",
     "exception": false,
     "start_time": "2023-06-27T03:39:45.207566",
     "status": "completed"
    },
    "tags": []
   },
   "outputs": [
    {
     "data": {
      "text/html": [
       "<div>\n",
       "<style scoped>\n",
       "    .dataframe tbody tr th:only-of-type {\n",
       "        vertical-align: middle;\n",
       "    }\n",
       "\n",
       "    .dataframe tbody tr th {\n",
       "        vertical-align: top;\n",
       "    }\n",
       "\n",
       "    .dataframe thead th {\n",
       "        text-align: right;\n",
       "    }\n",
       "</style>\n",
       "<table border=\"1\" class=\"dataframe\">\n",
       "  <thead>\n",
       "    <tr style=\"text-align: right;\">\n",
       "      <th></th>\n",
       "      <th>Id</th>\n",
       "      <th>MSSubClass</th>\n",
       "      <th>MSZoning</th>\n",
       "      <th>LotFrontage</th>\n",
       "      <th>LotArea</th>\n",
       "      <th>Street</th>\n",
       "      <th>Alley</th>\n",
       "      <th>LotShape</th>\n",
       "      <th>LandContour</th>\n",
       "      <th>Utilities</th>\n",
       "      <th>...</th>\n",
       "      <th>PoolArea</th>\n",
       "      <th>PoolQC</th>\n",
       "      <th>Fence</th>\n",
       "      <th>MiscFeature</th>\n",
       "      <th>MiscVal</th>\n",
       "      <th>MoSold</th>\n",
       "      <th>YrSold</th>\n",
       "      <th>SaleType</th>\n",
       "      <th>SaleCondition</th>\n",
       "      <th>SalePrice</th>\n",
       "    </tr>\n",
       "  </thead>\n",
       "  <tbody>\n",
       "    <tr>\n",
       "      <th>0</th>\n",
       "      <td>1</td>\n",
       "      <td>60</td>\n",
       "      <td>RL</td>\n",
       "      <td>65.0</td>\n",
       "      <td>8450</td>\n",
       "      <td>Pave</td>\n",
       "      <td>NaN</td>\n",
       "      <td>Reg</td>\n",
       "      <td>Lvl</td>\n",
       "      <td>AllPub</td>\n",
       "      <td>...</td>\n",
       "      <td>0</td>\n",
       "      <td>NaN</td>\n",
       "      <td>NaN</td>\n",
       "      <td>NaN</td>\n",
       "      <td>0</td>\n",
       "      <td>2</td>\n",
       "      <td>2008</td>\n",
       "      <td>WD</td>\n",
       "      <td>Normal</td>\n",
       "      <td>208500.0</td>\n",
       "    </tr>\n",
       "    <tr>\n",
       "      <th>1</th>\n",
       "      <td>2</td>\n",
       "      <td>20</td>\n",
       "      <td>RL</td>\n",
       "      <td>80.0</td>\n",
       "      <td>9600</td>\n",
       "      <td>Pave</td>\n",
       "      <td>NaN</td>\n",
       "      <td>Reg</td>\n",
       "      <td>Lvl</td>\n",
       "      <td>AllPub</td>\n",
       "      <td>...</td>\n",
       "      <td>0</td>\n",
       "      <td>NaN</td>\n",
       "      <td>NaN</td>\n",
       "      <td>NaN</td>\n",
       "      <td>0</td>\n",
       "      <td>5</td>\n",
       "      <td>2007</td>\n",
       "      <td>WD</td>\n",
       "      <td>Normal</td>\n",
       "      <td>181500.0</td>\n",
       "    </tr>\n",
       "    <tr>\n",
       "      <th>2</th>\n",
       "      <td>3</td>\n",
       "      <td>60</td>\n",
       "      <td>RL</td>\n",
       "      <td>68.0</td>\n",
       "      <td>11250</td>\n",
       "      <td>Pave</td>\n",
       "      <td>NaN</td>\n",
       "      <td>IR1</td>\n",
       "      <td>Lvl</td>\n",
       "      <td>AllPub</td>\n",
       "      <td>...</td>\n",
       "      <td>0</td>\n",
       "      <td>NaN</td>\n",
       "      <td>NaN</td>\n",
       "      <td>NaN</td>\n",
       "      <td>0</td>\n",
       "      <td>9</td>\n",
       "      <td>2008</td>\n",
       "      <td>WD</td>\n",
       "      <td>Normal</td>\n",
       "      <td>223500.0</td>\n",
       "    </tr>\n",
       "    <tr>\n",
       "      <th>3</th>\n",
       "      <td>4</td>\n",
       "      <td>70</td>\n",
       "      <td>RL</td>\n",
       "      <td>60.0</td>\n",
       "      <td>9550</td>\n",
       "      <td>Pave</td>\n",
       "      <td>NaN</td>\n",
       "      <td>IR1</td>\n",
       "      <td>Lvl</td>\n",
       "      <td>AllPub</td>\n",
       "      <td>...</td>\n",
       "      <td>0</td>\n",
       "      <td>NaN</td>\n",
       "      <td>NaN</td>\n",
       "      <td>NaN</td>\n",
       "      <td>0</td>\n",
       "      <td>2</td>\n",
       "      <td>2006</td>\n",
       "      <td>WD</td>\n",
       "      <td>Abnorml</td>\n",
       "      <td>140000.0</td>\n",
       "    </tr>\n",
       "    <tr>\n",
       "      <th>4</th>\n",
       "      <td>5</td>\n",
       "      <td>60</td>\n",
       "      <td>RL</td>\n",
       "      <td>84.0</td>\n",
       "      <td>14260</td>\n",
       "      <td>Pave</td>\n",
       "      <td>NaN</td>\n",
       "      <td>IR1</td>\n",
       "      <td>Lvl</td>\n",
       "      <td>AllPub</td>\n",
       "      <td>...</td>\n",
       "      <td>0</td>\n",
       "      <td>NaN</td>\n",
       "      <td>NaN</td>\n",
       "      <td>NaN</td>\n",
       "      <td>0</td>\n",
       "      <td>12</td>\n",
       "      <td>2008</td>\n",
       "      <td>WD</td>\n",
       "      <td>Normal</td>\n",
       "      <td>250000.0</td>\n",
       "    </tr>\n",
       "  </tbody>\n",
       "</table>\n",
       "<p>5 rows × 81 columns</p>\n",
       "</div>"
      ],
      "text/plain": [
       "   Id  MSSubClass MSZoning  LotFrontage  LotArea Street Alley LotShape  \\\n",
       "0   1          60       RL         65.0     8450   Pave   NaN      Reg   \n",
       "1   2          20       RL         80.0     9600   Pave   NaN      Reg   \n",
       "2   3          60       RL         68.0    11250   Pave   NaN      IR1   \n",
       "3   4          70       RL         60.0     9550   Pave   NaN      IR1   \n",
       "4   5          60       RL         84.0    14260   Pave   NaN      IR1   \n",
       "\n",
       "  LandContour Utilities  ... PoolArea PoolQC Fence MiscFeature MiscVal MoSold  \\\n",
       "0         Lvl    AllPub  ...        0    NaN   NaN         NaN       0      2   \n",
       "1         Lvl    AllPub  ...        0    NaN   NaN         NaN       0      5   \n",
       "2         Lvl    AllPub  ...        0    NaN   NaN         NaN       0      9   \n",
       "3         Lvl    AllPub  ...        0    NaN   NaN         NaN       0      2   \n",
       "4         Lvl    AllPub  ...        0    NaN   NaN         NaN       0     12   \n",
       "\n",
       "  YrSold  SaleType  SaleCondition  SalePrice  \n",
       "0   2008        WD         Normal   208500.0  \n",
       "1   2007        WD         Normal   181500.0  \n",
       "2   2008        WD         Normal   223500.0  \n",
       "3   2006        WD        Abnorml   140000.0  \n",
       "4   2008        WD         Normal   250000.0  \n",
       "\n",
       "[5 rows x 81 columns]"
      ]
     },
     "execution_count": 6,
     "metadata": {},
     "output_type": "execute_result"
    }
   ],
   "source": [
    "## 把訓練集和測試集合併成一個資料\n",
    "## 之後修改資料可一次修改，不用分train or test\n",
    "\n",
    "data = pd.concat([train, test], ignore_index=True)\n",
    "data.head()"
   ]
  },
  {
   "cell_type": "code",
   "execution_count": 7,
   "id": "18551094",
   "metadata": {
    "execution": {
     "iopub.execute_input": "2023-06-27T03:39:45.302392Z",
     "iopub.status.busy": "2023-06-27T03:39:45.301139Z",
     "iopub.status.idle": "2023-06-27T03:39:45.845216Z",
     "shell.execute_reply": "2023-06-27T03:39:45.843970Z"
    },
    "papermill": {
     "duration": 0.566205,
     "end_time": "2023-06-27T03:39:45.847926",
     "exception": false,
     "start_time": "2023-06-27T03:39:45.281721",
     "status": "completed"
    },
    "tags": []
   },
   "outputs": [
    {
     "data": {
      "text/plain": [
       "<seaborn.axisgrid.FacetGrid at 0x78d937bbc340>"
      ]
     },
     "execution_count": 7,
     "metadata": {},
     "output_type": "execute_result"
    },
    {
     "data": {
      "image/png": "[encoded data removed]",
      "text/plain": [
       "<Figure size 500x500 with 1 Axes>"
      ]
     },
     "metadata": {},
     "output_type": "display_data"
    }
   ],
   "source": [
    "## 參考tutorial的方式作圖，得知SalePrice在資料中的分布\n",
    "## 可以看出資料為線性分布\n",
    "## 接近常態分佈\n",
    "\n",
    "sns.displot(train['SalePrice'], color='g', bins=100, alpha=0.4)"
   ]
  },
  {
   "cell_type": "code",
   "execution_count": 8,
   "id": "312a33b7",
   "metadata": {
    "execution": {
     "iopub.execute_input": "2023-06-27T03:39:45.887315Z",
     "iopub.status.busy": "2023-06-27T03:39:45.886929Z",
     "iopub.status.idle": "2023-06-27T03:39:45.895643Z",
     "shell.execute_reply": "2023-06-27T03:39:45.894524Z"
    },
    "papermill": {
     "duration": 0.031275,
     "end_time": "2023-06-27T03:39:45.897859",
     "exception": false,
     "start_time": "2023-06-27T03:39:45.866584",
     "status": "completed"
    },
    "tags": []
   },
   "outputs": [
    {
     "data": {
      "text/plain": [
       "array([dtype('int64'), dtype('O'), dtype('float64')], dtype=object)"
      ]
     },
     "execution_count": 8,
     "metadata": {},
     "output_type": "execute_result"
    }
   ],
   "source": [
    "## 目前特徵較多，觀察特徵的型態\n",
    "## dtype('O')是NumPy中對於\"object\"類型的數據的表示方式，\n",
    "## 一般使用dtype('O')表示相同的數據類型\n",
    "## dtype=object是Pandas中對於\"object\"類型的數據的表示方式，\n",
    "## 當一個列包含不同類型的數據（如字串、數字、None等）時，該列的數據類型將被指定為dtype=object。\n",
    "\n",
    "data_types = data.dtypes.unique()\n",
    "data_types"
   ]
  },
  {
   "cell_type": "code",
   "execution_count": 9,
   "id": "fe20a332",
   "metadata": {
    "execution": {
     "iopub.execute_input": "2023-06-27T03:39:45.937809Z",
     "iopub.status.busy": "2023-06-27T03:39:45.936794Z",
     "iopub.status.idle": "2023-06-27T03:39:45.943192Z",
     "shell.execute_reply": "2023-06-27T03:39:45.942196Z"
    },
    "papermill": {
     "duration": 0.028865,
     "end_time": "2023-06-27T03:39:45.945425",
     "exception": false,
     "start_time": "2023-06-27T03:39:45.916560",
     "status": "completed"
    },
    "tags": []
   },
   "outputs": [
    {
     "data": {
      "text/plain": [
       "(2919, 81)"
      ]
     },
     "execution_count": 9,
     "metadata": {},
     "output_type": "execute_result"
    }
   ],
   "source": [
    "data.shape"
   ]
  },
  {
   "cell_type": "code",
   "execution_count": 10,
   "id": "93896ed8",
   "metadata": {
    "execution": {
     "iopub.execute_input": "2023-06-27T03:39:45.985407Z",
     "iopub.status.busy": "2023-06-27T03:39:45.984632Z",
     "iopub.status.idle": "2023-06-27T03:39:45.992055Z",
     "shell.execute_reply": "2023-06-27T03:39:45.991076Z"
    },
    "papermill": {
     "duration": 0.030166,
     "end_time": "2023-06-27T03:39:45.994292",
     "exception": false,
     "start_time": "2023-06-27T03:39:45.964126",
     "status": "completed"
    },
    "tags": []
   },
   "outputs": [],
   "source": [
    "## 選出數值特徵\n",
    "## 用select_dtypes去將資料型態做分類\n",
    "\n",
    "data_num = data.select_dtypes(include=['float64', 'int64'])"
   ]
  },
  {
   "cell_type": "code",
   "execution_count": 11,
   "id": "1207f384",
   "metadata": {
    "execution": {
     "iopub.execute_input": "2023-06-27T03:39:46.033988Z",
     "iopub.status.busy": "2023-06-27T03:39:46.033326Z",
     "iopub.status.idle": "2023-06-27T03:39:46.054885Z",
     "shell.execute_reply": "2023-06-27T03:39:46.053970Z"
    },
    "papermill": {
     "duration": 0.04459,
     "end_time": "2023-06-27T03:39:46.057653",
     "exception": false,
     "start_time": "2023-06-27T03:39:46.013063",
     "status": "completed"
    },
    "tags": []
   },
   "outputs": [
    {
     "data": {
      "text/html": [
       "<div>\n",
       "<style scoped>\n",
       "    .dataframe tbody tr th:only-of-type {\n",
       "        vertical-align: middle;\n",
       "    }\n",
       "\n",
       "    .dataframe tbody tr th {\n",
       "        vertical-align: top;\n",
       "    }\n",
       "\n",
       "    .dataframe thead th {\n",
       "        text-align: right;\n",
       "    }\n",
       "</style>\n",
       "<table border=\"1\" class=\"dataframe\">\n",
       "  <thead>\n",
       "    <tr style=\"text-align: right;\">\n",
       "      <th></th>\n",
       "      <th>Id</th>\n",
       "      <th>MSSubClass</th>\n",
       "      <th>LotFrontage</th>\n",
       "      <th>LotArea</th>\n",
       "      <th>OverallQual</th>\n",
       "      <th>OverallCond</th>\n",
       "      <th>YearBuilt</th>\n",
       "      <th>YearRemodAdd</th>\n",
       "      <th>MasVnrArea</th>\n",
       "      <th>BsmtFinSF1</th>\n",
       "      <th>...</th>\n",
       "      <th>WoodDeckSF</th>\n",
       "      <th>OpenPorchSF</th>\n",
       "      <th>EnclosedPorch</th>\n",
       "      <th>3SsnPorch</th>\n",
       "      <th>ScreenPorch</th>\n",
       "      <th>PoolArea</th>\n",
       "      <th>MiscVal</th>\n",
       "      <th>MoSold</th>\n",
       "      <th>YrSold</th>\n",
       "      <th>SalePrice</th>\n",
       "    </tr>\n",
       "  </thead>\n",
       "  <tbody>\n",
       "    <tr>\n",
       "      <th>0</th>\n",
       "      <td>1</td>\n",
       "      <td>60</td>\n",
       "      <td>65.0</td>\n",
       "      <td>8450</td>\n",
       "      <td>7</td>\n",
       "      <td>5</td>\n",
       "      <td>2003</td>\n",
       "      <td>2003</td>\n",
       "      <td>196.0</td>\n",
       "      <td>706.0</td>\n",
       "      <td>...</td>\n",
       "      <td>0</td>\n",
       "      <td>61</td>\n",
       "      <td>0</td>\n",
       "      <td>0</td>\n",
       "      <td>0</td>\n",
       "      <td>0</td>\n",
       "      <td>0</td>\n",
       "      <td>2</td>\n",
       "      <td>2008</td>\n",
       "      <td>208500.0</td>\n",
       "    </tr>\n",
       "    <tr>\n",
       "      <th>1</th>\n",
       "      <td>2</td>\n",
       "      <td>20</td>\n",
       "      <td>80.0</td>\n",
       "      <td>9600</td>\n",
       "      <td>6</td>\n",
       "      <td>8</td>\n",
       "      <td>1976</td>\n",
       "      <td>1976</td>\n",
       "      <td>0.0</td>\n",
       "      <td>978.0</td>\n",
       "      <td>...</td>\n",
       "      <td>298</td>\n",
       "      <td>0</td>\n",
       "      <td>0</td>\n",
       "      <td>0</td>\n",
       "      <td>0</td>\n",
       "      <td>0</td>\n",
       "      <td>0</td>\n",
       "      <td>5</td>\n",
       "      <td>2007</td>\n",
       "      <td>181500.0</td>\n",
       "    </tr>\n",
       "    <tr>\n",
       "      <th>2</th>\n",
       "      <td>3</td>\n",
       "      <td>60</td>\n",
       "      <td>68.0</td>\n",
       "      <td>11250</td>\n",
       "      <td>7</td>\n",
       "      <td>5</td>\n",
       "      <td>2001</td>\n",
       "      <td>2002</td>\n",
       "      <td>162.0</td>\n",
       "      <td>486.0</td>\n",
       "      <td>...</td>\n",
       "      <td>0</td>\n",
       "      <td>42</td>\n",
       "      <td>0</td>\n",
       "      <td>0</td>\n",
       "      <td>0</td>\n",
       "      <td>0</td>\n",
       "      <td>0</td>\n",
       "      <td>9</td>\n",
       "      <td>2008</td>\n",
       "      <td>223500.0</td>\n",
       "    </tr>\n",
       "  </tbody>\n",
       "</table>\n",
       "<p>3 rows × 38 columns</p>\n",
       "</div>"
      ],
      "text/plain": [
       "   Id  MSSubClass  LotFrontage  LotArea  OverallQual  OverallCond  YearBuilt  \\\n",
       "0   1          60         65.0     8450            7            5       2003   \n",
       "1   2          20         80.0     9600            6            8       1976   \n",
       "2   3          60         68.0    11250            7            5       2001   \n",
       "\n",
       "   YearRemodAdd  MasVnrArea  BsmtFinSF1  ...  WoodDeckSF  OpenPorchSF  \\\n",
       "0          2003       196.0       706.0  ...           0           61   \n",
       "1          1976         0.0       978.0  ...         298            0   \n",
       "2          2002       162.0       486.0  ...           0           42   \n",
       "\n",
       "   EnclosedPorch  3SsnPorch  ScreenPorch  PoolArea  MiscVal  MoSold  YrSold  \\\n",
       "0              0          0            0         0        0       2    2008   \n",
       "1              0          0            0         0        0       5    2007   \n",
       "2              0          0            0         0        0       9    2008   \n",
       "\n",
       "   SalePrice  \n",
       "0   208500.0  \n",
       "1   181500.0  \n",
       "2   223500.0  \n",
       "\n",
       "[3 rows x 38 columns]"
      ]
     },
     "execution_count": 11,
     "metadata": {},
     "output_type": "execute_result"
    }
   ],
   "source": [
    "data_num.head(3)"
   ]
  },
  {
   "cell_type": "code",
   "execution_count": 12,
   "id": "25d78df0",
   "metadata": {
    "execution": {
     "iopub.execute_input": "2023-06-27T03:39:46.097919Z",
     "iopub.status.busy": "2023-06-27T03:39:46.097533Z",
     "iopub.status.idle": "2023-06-27T03:39:46.107182Z",
     "shell.execute_reply": "2023-06-27T03:39:46.106093Z"
    },
    "papermill": {
     "duration": 0.032575,
     "end_time": "2023-06-27T03:39:46.109323",
     "exception": false,
     "start_time": "2023-06-27T03:39:46.076748",
     "status": "completed"
    },
    "tags": []
   },
   "outputs": [
    {
     "data": {
      "text/plain": [
       "Id                  0\n",
       "MSSubClass          0\n",
       "LotFrontage       486\n",
       "LotArea             0\n",
       "OverallQual         0\n",
       "OverallCond         0\n",
       "YearBuilt           0\n",
       "YearRemodAdd        0\n",
       "MasVnrArea         23\n",
       "BsmtFinSF1          1\n",
       "BsmtFinSF2          1\n",
       "BsmtUnfSF           1\n",
       "TotalBsmtSF         1\n",
       "1stFlrSF            0\n",
       "2ndFlrSF            0\n",
       "LowQualFinSF        0\n",
       "GrLivArea           0\n",
       "BsmtFullBath        2\n",
       "BsmtHalfBath        2\n",
       "FullBath            0\n",
       "HalfBath            0\n",
       "BedroomAbvGr        0\n",
       "KitchenAbvGr        0\n",
       "TotRmsAbvGrd        0\n",
       "Fireplaces          0\n",
       "GarageYrBlt       159\n",
       "GarageCars          1\n",
       "GarageArea          1\n",
       "WoodDeckSF          0\n",
       "OpenPorchSF         0\n",
       "EnclosedPorch       0\n",
       "3SsnPorch           0\n",
       "ScreenPorch         0\n",
       "PoolArea            0\n",
       "MiscVal             0\n",
       "MoSold              0\n",
       "YrSold              0\n",
       "SalePrice        1459\n",
       "dtype: int64"
      ]
     },
     "execution_count": 12,
     "metadata": {},
     "output_type": "execute_result"
    }
   ],
   "source": [
    "## 看data_num的空值\n",
    "\n",
    "data_num.isnull().sum()"
   ]
  },
  {
   "cell_type": "code",
   "execution_count": 13,
   "id": "e1e7aa6d",
   "metadata": {
    "execution": {
     "iopub.execute_input": "2023-06-27T03:39:46.150133Z",
     "iopub.status.busy": "2023-06-27T03:39:46.149484Z",
     "iopub.status.idle": "2023-06-27T03:39:57.007579Z",
     "shell.execute_reply": "2023-06-27T03:39:57.006691Z"
    },
    "papermill": {
     "duration": 10.881423,
     "end_time": "2023-06-27T03:39:57.010125",
     "exception": false,
     "start_time": "2023-06-27T03:39:46.128702",
     "status": "completed"
    },
    "tags": []
   },
   "outputs": [
    {
     "data": {
      "image/png": "[encoded data removed]",
      "text/plain": [
       "<Figure size 1600x2000 with 42 Axes>"
      ]
     },
     "metadata": {},
     "output_type": "display_data"
    }
   ],
   "source": [
    "## 顯示數值特徵在不同值範圍的頻率分佈情況\n",
    "\n",
    "data_num.hist(figsize=(16, 20), bins=50, xlabelsize=8, ylabelsize=8);"
   ]
  },
  {
   "cell_type": "code",
   "execution_count": 14,
   "id": "59f7aee2",
   "metadata": {
    "execution": {
     "iopub.execute_input": "2023-06-27T03:39:57.056538Z",
     "iopub.status.busy": "2023-06-27T03:39:57.056092Z",
     "iopub.status.idle": "2023-06-27T03:39:57.079267Z",
     "shell.execute_reply": "2023-06-27T03:39:57.078030Z"
    },
    "papermill": {
     "duration": 0.049242,
     "end_time": "2023-06-27T03:39:57.081821",
     "exception": false,
     "start_time": "2023-06-27T03:39:57.032579",
     "status": "completed"
    },
    "tags": []
   },
   "outputs": [
    {
     "name": "stdout",
     "output_type": "stream",
     "text": [
      "選擇特徵數：13 \n",
      "選擇特徵：\n",
      "OverallQual     0.790982\n",
      "YearBuilt       0.522897\n",
      "YearRemodAdd    0.507101\n",
      "MasVnrArea      0.477493\n",
      "TotalBsmtSF     0.613581\n",
      "1stFlrSF        0.605852\n",
      "GrLivArea       0.708624\n",
      "FullBath        0.560664\n",
      "TotRmsAbvGrd    0.533723\n",
      "Fireplaces      0.466929\n",
      "GarageYrBlt     0.486362\n",
      "GarageCars      0.640409\n",
      "GarageArea      0.623431\n",
      "Name: SalePrice, dtype: float64\n"
     ]
    }
   ],
   "source": [
    "## 計算(Pearson)相關係數\n",
    "## 並篩選出相關性較高的特徵\n",
    "## >0.4\n",
    "\n",
    "data_num_corr = data_num.corr()\n",
    "num_targetCorr = data_num_corr['SalePrice']\n",
    "num_targetCorr = num_targetCorr.drop('SalePrice')\n",
    "num_features = num_targetCorr[abs(num_targetCorr)>0.4]\n",
    "print('選擇特徵數：{} \\n選擇特徵：\\n{}'.format(len(num_features), num_features))"
   ]
  },
  {
   "cell_type": "code",
   "execution_count": 15,
   "id": "f4131d6a",
   "metadata": {
    "execution": {
     "iopub.execute_input": "2023-06-27T03:39:57.129054Z",
     "iopub.status.busy": "2023-06-27T03:39:57.128281Z",
     "iopub.status.idle": "2023-06-27T03:39:57.133846Z",
     "shell.execute_reply": "2023-06-27T03:39:57.132568Z"
    },
    "papermill": {
     "duration": 0.03204,
     "end_time": "2023-06-27T03:39:57.136224",
     "exception": false,
     "start_time": "2023-06-27T03:39:57.104184",
     "status": "completed"
    },
    "tags": []
   },
   "outputs": [
    {
     "name": "stdout",
     "output_type": "stream",
     "text": [
      "['OverallQual', 'YearBuilt', 'YearRemodAdd', 'MasVnrArea', 'TotalBsmtSF', '1stFlrSF', 'GrLivArea', 'FullBath', 'TotRmsAbvGrd', 'Fireplaces', 'GarageYrBlt', 'GarageCars', 'GarageArea']\n"
     ]
    }
   ],
   "source": [
    "## 取出相關的數值特徵\n",
    "\n",
    "num_selected_features = num_features.index.tolist()\n",
    "print(num_selected_features)"
   ]
  },
  {
   "cell_type": "code",
   "execution_count": 16,
   "id": "51f09b17",
   "metadata": {
    "execution": {
     "iopub.execute_input": "2023-06-27T03:39:57.183069Z",
     "iopub.status.busy": "2023-06-27T03:39:57.182409Z",
     "iopub.status.idle": "2023-06-27T03:39:57.186431Z",
     "shell.execute_reply": "2023-06-27T03:39:57.185653Z"
    },
    "papermill": {
     "duration": 0.030015,
     "end_time": "2023-06-27T03:39:57.188564",
     "exception": false,
     "start_time": "2023-06-27T03:39:57.158549",
     "status": "completed"
    },
    "tags": []
   },
   "outputs": [],
   "source": [
    "# ## 重新賦予data_num\n",
    "\n",
    "# data_num = data_num[num_selected_features]\n",
    "# data_num.shape"
   ]
  },
  {
   "cell_type": "code",
   "execution_count": 17,
   "id": "279e663b",
   "metadata": {
    "execution": {
     "iopub.execute_input": "2023-06-27T03:39:57.235593Z",
     "iopub.status.busy": "2023-06-27T03:39:57.235172Z",
     "iopub.status.idle": "2023-06-27T03:39:57.264089Z",
     "shell.execute_reply": "2023-06-27T03:39:57.262998Z"
    },
    "papermill": {
     "duration": 0.055399,
     "end_time": "2023-06-27T03:39:57.266627",
     "exception": false,
     "start_time": "2023-06-27T03:39:57.211228",
     "status": "completed"
    },
    "tags": []
   },
   "outputs": [
    {
     "data": {
      "text/html": [
       "<div>\n",
       "<style scoped>\n",
       "    .dataframe tbody tr th:only-of-type {\n",
       "        vertical-align: middle;\n",
       "    }\n",
       "\n",
       "    .dataframe tbody tr th {\n",
       "        vertical-align: top;\n",
       "    }\n",
       "\n",
       "    .dataframe thead th {\n",
       "        text-align: right;\n",
       "    }\n",
       "</style>\n",
       "<table border=\"1\" class=\"dataframe\">\n",
       "  <thead>\n",
       "    <tr style=\"text-align: right;\">\n",
       "      <th></th>\n",
       "      <th>MSZoning</th>\n",
       "      <th>Street</th>\n",
       "      <th>Alley</th>\n",
       "      <th>LotShape</th>\n",
       "      <th>LandContour</th>\n",
       "      <th>Utilities</th>\n",
       "      <th>LotConfig</th>\n",
       "      <th>LandSlope</th>\n",
       "      <th>Neighborhood</th>\n",
       "      <th>Condition1</th>\n",
       "      <th>...</th>\n",
       "      <th>GarageType</th>\n",
       "      <th>GarageFinish</th>\n",
       "      <th>GarageQual</th>\n",
       "      <th>GarageCond</th>\n",
       "      <th>PavedDrive</th>\n",
       "      <th>PoolQC</th>\n",
       "      <th>Fence</th>\n",
       "      <th>MiscFeature</th>\n",
       "      <th>SaleType</th>\n",
       "      <th>SaleCondition</th>\n",
       "    </tr>\n",
       "  </thead>\n",
       "  <tbody>\n",
       "    <tr>\n",
       "      <th>0</th>\n",
       "      <td>RL</td>\n",
       "      <td>Pave</td>\n",
       "      <td>NaN</td>\n",
       "      <td>Reg</td>\n",
       "      <td>Lvl</td>\n",
       "      <td>AllPub</td>\n",
       "      <td>Inside</td>\n",
       "      <td>Gtl</td>\n",
       "      <td>CollgCr</td>\n",
       "      <td>Norm</td>\n",
       "      <td>...</td>\n",
       "      <td>Attchd</td>\n",
       "      <td>RFn</td>\n",
       "      <td>TA</td>\n",
       "      <td>TA</td>\n",
       "      <td>Y</td>\n",
       "      <td>NaN</td>\n",
       "      <td>NaN</td>\n",
       "      <td>NaN</td>\n",
       "      <td>WD</td>\n",
       "      <td>Normal</td>\n",
       "    </tr>\n",
       "    <tr>\n",
       "      <th>1</th>\n",
       "      <td>RL</td>\n",
       "      <td>Pave</td>\n",
       "      <td>NaN</td>\n",
       "      <td>Reg</td>\n",
       "      <td>Lvl</td>\n",
       "      <td>AllPub</td>\n",
       "      <td>FR2</td>\n",
       "      <td>Gtl</td>\n",
       "      <td>Veenker</td>\n",
       "      <td>Feedr</td>\n",
       "      <td>...</td>\n",
       "      <td>Attchd</td>\n",
       "      <td>RFn</td>\n",
       "      <td>TA</td>\n",
       "      <td>TA</td>\n",
       "      <td>Y</td>\n",
       "      <td>NaN</td>\n",
       "      <td>NaN</td>\n",
       "      <td>NaN</td>\n",
       "      <td>WD</td>\n",
       "      <td>Normal</td>\n",
       "    </tr>\n",
       "    <tr>\n",
       "      <th>2</th>\n",
       "      <td>RL</td>\n",
       "      <td>Pave</td>\n",
       "      <td>NaN</td>\n",
       "      <td>IR1</td>\n",
       "      <td>Lvl</td>\n",
       "      <td>AllPub</td>\n",
       "      <td>Inside</td>\n",
       "      <td>Gtl</td>\n",
       "      <td>CollgCr</td>\n",
       "      <td>Norm</td>\n",
       "      <td>...</td>\n",
       "      <td>Attchd</td>\n",
       "      <td>RFn</td>\n",
       "      <td>TA</td>\n",
       "      <td>TA</td>\n",
       "      <td>Y</td>\n",
       "      <td>NaN</td>\n",
       "      <td>NaN</td>\n",
       "      <td>NaN</td>\n",
       "      <td>WD</td>\n",
       "      <td>Normal</td>\n",
       "    </tr>\n",
       "  </tbody>\n",
       "</table>\n",
       "<p>3 rows × 43 columns</p>\n",
       "</div>"
      ],
      "text/plain": [
       "  MSZoning Street Alley LotShape LandContour Utilities LotConfig LandSlope  \\\n",
       "0       RL   Pave   NaN      Reg         Lvl    AllPub    Inside       Gtl   \n",
       "1       RL   Pave   NaN      Reg         Lvl    AllPub       FR2       Gtl   \n",
       "2       RL   Pave   NaN      IR1         Lvl    AllPub    Inside       Gtl   \n",
       "\n",
       "  Neighborhood Condition1  ... GarageType GarageFinish GarageQual GarageCond  \\\n",
       "0      CollgCr       Norm  ...     Attchd          RFn         TA         TA   \n",
       "1      Veenker      Feedr  ...     Attchd          RFn         TA         TA   \n",
       "2      CollgCr       Norm  ...     Attchd          RFn         TA         TA   \n",
       "\n",
       "  PavedDrive PoolQC Fence MiscFeature SaleType SaleCondition  \n",
       "0          Y    NaN   NaN         NaN       WD        Normal  \n",
       "1          Y    NaN   NaN         NaN       WD        Normal  \n",
       "2          Y    NaN   NaN         NaN       WD        Normal  \n",
       "\n",
       "[3 rows x 43 columns]"
      ]
     },
     "execution_count": 17,
     "metadata": {},
     "output_type": "execute_result"
    }
   ],
   "source": [
    "## 觀察object型態的資料\n",
    "\n",
    "data_obj = data.select_dtypes(include=['object'])\n",
    "data_obj.head(3)"
   ]
  },
  {
   "cell_type": "code",
   "execution_count": 18,
   "id": "33037a18",
   "metadata": {
    "execution": {
     "iopub.execute_input": "2023-06-27T03:39:57.313312Z",
     "iopub.status.busy": "2023-06-27T03:39:57.312942Z",
     "iopub.status.idle": "2023-06-27T03:39:57.317369Z",
     "shell.execute_reply": "2023-06-27T03:39:57.316526Z"
    },
    "papermill": {
     "duration": 0.030557,
     "end_time": "2023-06-27T03:39:57.319610",
     "exception": false,
     "start_time": "2023-06-27T03:39:57.289053",
     "status": "completed"
    },
    "tags": []
   },
   "outputs": [],
   "source": [
    "## Alley, FireplaceQu, PoolQC, Fence, MiscFeature 的缺失值較多，且都是object屬性\n",
    "## FireplaceQu(Fireplace quality)較特別可另外討論\n",
    "## 因此決並把Alley, PoolQC, Fence, MiscFeature移除\n",
    "\n",
    "# data_obj = data_obj.drop(['Alley', 'PoolQC', 'Fence', 'MiscFeature'], axis=1)\n",
    "# data_obj.head(3)"
   ]
  },
  {
   "cell_type": "code",
   "execution_count": 19,
   "id": "09575865",
   "metadata": {
    "execution": {
     "iopub.execute_input": "2023-06-27T03:39:57.367059Z",
     "iopub.status.busy": "2023-06-27T03:39:57.366344Z",
     "iopub.status.idle": "2023-06-27T03:39:57.422517Z",
     "shell.execute_reply": "2023-06-27T03:39:57.420681Z"
    },
    "papermill": {
     "duration": 0.082871,
     "end_time": "2023-06-27T03:39:57.425243",
     "exception": false,
     "start_time": "2023-06-27T03:39:57.342372",
     "status": "completed"
    },
    "tags": []
   },
   "outputs": [
    {
     "name": "stdout",
     "output_type": "stream",
     "text": [
      "佔比最多的類別： Pave\n",
      "佔比： 99.58890030832477\n",
      "佔比最多的類別： AllPub\n",
      "佔比： 99.8972250770812\n",
      "佔比最多的類別： Gtl\n",
      "佔比： 95.16957862281603\n",
      "佔比最多的類別： Norm\n",
      "佔比： 98.97225077081193\n",
      "佔比最多的類別： CompShg\n",
      "佔比： 98.52689277149709\n",
      "佔比最多的類別： GasA\n",
      "佔比： 98.45837615621788\n",
      "佔比最多的類別： Y\n",
      "佔比： 93.28537170263789\n",
      "佔比最多的類別： SBrkr\n",
      "佔比： 91.50393970537856\n",
      "佔比最多的類別： Typ\n",
      "佔比： 93.07982185680027\n",
      "佔比最多的類別： TA\n",
      "佔比： 90.9215484755053\n",
      "佔比最多的類別： Y\n",
      "佔比： 90.47619047619048\n"
     ]
    }
   ],
   "source": [
    "## 從object的特徵中找出高佔比的類別\n",
    "## 若佔比高達一定程度，推測其對目標的相關度不高，可考慮省略\n",
    "## 設定佔比:90\n",
    "\n",
    "obj_drop = []\n",
    "for i in range(len(data_obj.columns)):\n",
    "    ##計算每個類別的頻數\n",
    "    category_counts = data_obj.iloc[:,i].value_counts()\n",
    "    # 找到佔比最多的類別及其佔比\n",
    "    most_common_category = category_counts.idxmax()\n",
    "    most_common_category_count = category_counts.max()\n",
    "    percentage = most_common_category_count / len(data) * 100\n",
    "    if percentage >= 90:\n",
    "        # 打印結果\n",
    "        obj_drop.append(data_obj.columns[i])\n",
    "        print(\"佔比最多的類別：\", most_common_category)\n",
    "        print(\"佔比：\", percentage)"
   ]
  },
  {
   "cell_type": "code",
   "execution_count": 20,
   "id": "41a52fa2",
   "metadata": {
    "execution": {
     "iopub.execute_input": "2023-06-27T03:39:57.473199Z",
     "iopub.status.busy": "2023-06-27T03:39:57.472239Z",
     "iopub.status.idle": "2023-06-27T03:39:57.480856Z",
     "shell.execute_reply": "2023-06-27T03:39:57.479906Z"
    },
    "papermill": {
     "duration": 0.035013,
     "end_time": "2023-06-27T03:39:57.483095",
     "exception": false,
     "start_time": "2023-06-27T03:39:57.448082",
     "status": "completed"
    },
    "tags": []
   },
   "outputs": [
    {
     "data": {
      "text/plain": [
       "['Street',\n",
       " 'Utilities',\n",
       " 'LandSlope',\n",
       " 'Condition2',\n",
       " 'RoofMatl',\n",
       " 'Heating',\n",
       " 'CentralAir',\n",
       " 'Electrical',\n",
       " 'Functional',\n",
       " 'GarageCond',\n",
       " 'PavedDrive']"
      ]
     },
     "execution_count": 20,
     "metadata": {},
     "output_type": "execute_result"
    }
   ],
   "source": [
    "obj_drop"
   ]
  },
  {
   "cell_type": "code",
   "execution_count": 21,
   "id": "3f4bfcb1",
   "metadata": {
    "execution": {
     "iopub.execute_input": "2023-06-27T03:39:57.531140Z",
     "iopub.status.busy": "2023-06-27T03:39:57.530349Z",
     "iopub.status.idle": "2023-06-27T03:39:57.535088Z",
     "shell.execute_reply": "2023-06-27T03:39:57.534314Z"
    },
    "papermill": {
     "duration": 0.031485,
     "end_time": "2023-06-27T03:39:57.537381",
     "exception": false,
     "start_time": "2023-06-27T03:39:57.505896",
     "status": "completed"
    },
    "tags": []
   },
   "outputs": [],
   "source": [
    "# ## 把同類型站比高於90%的特徵從data中移除\n",
    "\n",
    "# data_obj = data_obj.drop(obj_drop, axis=1)\n",
    "# data_obj.head(3)"
   ]
  },
  {
   "cell_type": "code",
   "execution_count": 22,
   "id": "f93d634d",
   "metadata": {
    "execution": {
     "iopub.execute_input": "2023-06-27T03:39:57.585524Z",
     "iopub.status.busy": "2023-06-27T03:39:57.585090Z",
     "iopub.status.idle": "2023-06-27T03:39:57.601869Z",
     "shell.execute_reply": "2023-06-27T03:39:57.600011Z"
    },
    "papermill": {
     "duration": 0.04413,
     "end_time": "2023-06-27T03:39:57.604641",
     "exception": false,
     "start_time": "2023-06-27T03:39:57.560511",
     "status": "completed"
    },
    "tags": []
   },
   "outputs": [
    {
     "name": "stdout",
     "output_type": "stream",
     "text": [
      "<class 'pandas.core.frame.DataFrame'>\n",
      "RangeIndex: 2919 entries, 0 to 2918\n",
      "Data columns (total 38 columns):\n",
      " #   Column         Non-Null Count  Dtype  \n",
      "---  ------         --------------  -----  \n",
      " 0   Id             2919 non-null   int64  \n",
      " 1   MSSubClass     2919 non-null   int64  \n",
      " 2   LotFrontage    2433 non-null   float64\n",
      " 3   LotArea        2919 non-null   int64  \n",
      " 4   OverallQual    2919 non-null   int64  \n",
      " 5   OverallCond    2919 non-null   int64  \n",
      " 6   YearBuilt      2919 non-null   int64  \n",
      " 7   YearRemodAdd   2919 non-null   int64  \n",
      " 8   MasVnrArea     2896 non-null   float64\n",
      " 9   BsmtFinSF1     2918 non-null   float64\n",
      " 10  BsmtFinSF2     2918 non-null   float64\n",
      " 11  BsmtUnfSF      2918 non-null   float64\n",
      " 12  TotalBsmtSF    2918 non-null   float64\n",
      " 13  1stFlrSF       2919 non-null   int64  \n",
      " 14  2ndFlrSF       2919 non-null   int64  \n",
      " 15  LowQualFinSF   2919 non-null   int64  \n",
      " 16  GrLivArea      2919 non-null   int64  \n",
      " 17  BsmtFullBath   2917 non-null   float64\n",
      " 18  BsmtHalfBath   2917 non-null   float64\n",
      " 19  FullBath       2919 non-null   int64  \n",
      " 20  HalfBath       2919 non-null   int64  \n",
      " 21  BedroomAbvGr   2919 non-null   int64  \n",
      " 22  KitchenAbvGr   2919 non-null   int64  \n",
      " 23  TotRmsAbvGrd   2919 non-null   int64  \n",
      " 24  Fireplaces     2919 non-null   int64  \n",
      " 25  GarageYrBlt    2760 non-null   float64\n",
      " 26  GarageCars     2918 non-null   float64\n",
      " 27  GarageArea     2918 non-null   float64\n",
      " 28  WoodDeckSF     2919 non-null   int64  \n",
      " 29  OpenPorchSF    2919 non-null   int64  \n",
      " 30  EnclosedPorch  2919 non-null   int64  \n",
      " 31  3SsnPorch      2919 non-null   int64  \n",
      " 32  ScreenPorch    2919 non-null   int64  \n",
      " 33  PoolArea       2919 non-null   int64  \n",
      " 34  MiscVal        2919 non-null   int64  \n",
      " 35  MoSold         2919 non-null   int64  \n",
      " 36  YrSold         2919 non-null   int64  \n",
      " 37  SalePrice      1460 non-null   float64\n",
      "dtypes: float64(12), int64(26)\n",
      "memory usage: 866.7 KB\n"
     ]
    }
   ],
   "source": [
    "## 觀察篩選過後的資料並填補空值\n",
    "\n",
    "data_num.info()"
   ]
  },
  {
   "cell_type": "code",
   "execution_count": 23,
   "id": "32c34234",
   "metadata": {
    "execution": {
     "iopub.execute_input": "2023-06-27T03:39:57.653410Z",
     "iopub.status.busy": "2023-06-27T03:39:57.652410Z",
     "iopub.status.idle": "2023-06-27T03:39:57.658957Z",
     "shell.execute_reply": "2023-06-27T03:39:57.657753Z"
    },
    "papermill": {
     "duration": 0.033422,
     "end_time": "2023-06-27T03:39:57.661257",
     "exception": false,
     "start_time": "2023-06-27T03:39:57.627835",
     "status": "completed"
    },
    "tags": []
   },
   "outputs": [],
   "source": [
    "# LotFrontage      486\n",
    "# MasVnrArea        23\n",
    "# BsmtFinSF1         1  填0\n",
    "# BsmtFinSF2         1  填0\n",
    "# BsmtUnfSF          1  填0\n",
    "# TotalBsmtSF        1  \n",
    "# BsmtFullBath       2  填0\n",
    "# BsmtHalfBath       2  填0\n",
    "# GarageYrBlt      159\n",
    "# GarageCars         1\n",
    "# GarageArea         1"
   ]
  },
  {
   "cell_type": "code",
   "execution_count": 24,
   "id": "3bd1ce5a",
   "metadata": {
    "execution": {
     "iopub.execute_input": "2023-06-27T03:39:57.709913Z",
     "iopub.status.busy": "2023-06-27T03:39:57.709199Z",
     "iopub.status.idle": "2023-06-27T03:39:57.725238Z",
     "shell.execute_reply": "2023-06-27T03:39:57.723845Z"
    },
    "papermill": {
     "duration": 0.043522,
     "end_time": "2023-06-27T03:39:57.728063",
     "exception": false,
     "start_time": "2023-06-27T03:39:57.684541",
     "status": "completed"
    },
    "tags": []
   },
   "outputs": [],
   "source": [
    "## MasVnrArea, TotalBsmtSF, GarageYrBlt, GarageCars, GarageArea有空值\n",
    "\n",
    "data_num['BsmtFinSF1'] = data_num['BsmtFinSF1'].fillna(0)\n",
    "data_num['BsmtFinSF2'] = data_num['BsmtFinSF2'].fillna(0)\n",
    "data_num['BsmtUnfSF'] = data_num['BsmtUnfSF'].fillna(0)\n",
    "data_num['BsmtFullBath'] = data_num['BsmtFullBath'].fillna(0)\n",
    "data_num['BsmtHalfBath'] = data_num['BsmtHalfBath'].fillna(0)\n",
    "data_num['LotFrontage'] = data_num['LotFrontage'].fillna(data_num['LotFrontage'].mean())\n",
    "data_num['MasVnrArea'] = data_num['MasVnrArea'].fillna(data_num['MasVnrArea'].mean())\n",
    "data_num['TotalBsmtSF'] = data_num['TotalBsmtSF'].fillna(data_num['TotalBsmtSF'].mean())\n",
    "data_num['GarageYrBlt'] = data_num['GarageYrBlt'].fillna(data_num['GarageYrBlt'].mean())\n",
    "data_num['GarageCars'] = data_num['GarageCars'].fillna(data_num['GarageCars'].mean())\n",
    "data_num['GarageArea'] = data_num['GarageArea'].fillna(data_num['GarageArea'].mean())"
   ]
  },
  {
   "cell_type": "code",
   "execution_count": 25,
   "id": "05698724",
   "metadata": {
    "execution": {
     "iopub.execute_input": "2023-06-27T03:39:57.776178Z",
     "iopub.status.busy": "2023-06-27T03:39:57.775760Z",
     "iopub.status.idle": "2023-06-27T03:39:57.788065Z",
     "shell.execute_reply": "2023-06-27T03:39:57.786793Z"
    },
    "papermill": {
     "duration": 0.039286,
     "end_time": "2023-06-27T03:39:57.790313",
     "exception": false,
     "start_time": "2023-06-27T03:39:57.751027",
     "status": "completed"
    },
    "tags": []
   },
   "outputs": [
    {
     "data": {
      "text/plain": [
       "Id                  0\n",
       "MSSubClass          0\n",
       "LotFrontage         0\n",
       "LotArea             0\n",
       "OverallQual         0\n",
       "OverallCond         0\n",
       "YearBuilt           0\n",
       "YearRemodAdd        0\n",
       "MasVnrArea          0\n",
       "BsmtFinSF1          0\n",
       "BsmtFinSF2          0\n",
       "BsmtUnfSF           0\n",
       "TotalBsmtSF         0\n",
       "1stFlrSF            0\n",
       "2ndFlrSF            0\n",
       "LowQualFinSF        0\n",
       "GrLivArea           0\n",
       "BsmtFullBath        0\n",
       "BsmtHalfBath        0\n",
       "FullBath            0\n",
       "HalfBath            0\n",
       "BedroomAbvGr        0\n",
       "KitchenAbvGr        0\n",
       "TotRmsAbvGrd        0\n",
       "Fireplaces          0\n",
       "GarageYrBlt         0\n",
       "GarageCars          0\n",
       "GarageArea          0\n",
       "WoodDeckSF          0\n",
       "OpenPorchSF         0\n",
       "EnclosedPorch       0\n",
       "3SsnPorch           0\n",
       "ScreenPorch         0\n",
       "PoolArea            0\n",
       "MiscVal             0\n",
       "MoSold              0\n",
       "YrSold              0\n",
       "SalePrice        1459\n",
       "dtype: int64"
      ]
     },
     "execution_count": 25,
     "metadata": {},
     "output_type": "execute_result"
    }
   ],
   "source": [
    "## 確認空值是否補上\n",
    "\n",
    "data_num.isnull().sum()"
   ]
  },
  {
   "cell_type": "code",
   "execution_count": 26,
   "id": "d1c863a6",
   "metadata": {
    "execution": {
     "iopub.execute_input": "2023-06-27T03:39:57.839748Z",
     "iopub.status.busy": "2023-06-27T03:39:57.839199Z",
     "iopub.status.idle": "2023-06-27T03:39:57.889128Z",
     "shell.execute_reply": "2023-06-27T03:39:57.887969Z"
    },
    "papermill": {
     "duration": 0.077976,
     "end_time": "2023-06-27T03:39:57.891693",
     "exception": false,
     "start_time": "2023-06-27T03:39:57.813717",
     "status": "completed"
    },
    "tags": []
   },
   "outputs": [
    {
     "data": {
      "text/plain": [
       "MSZoning            4\n",
       "Street              0\n",
       "Alley            2721\n",
       "LotShape            0\n",
       "LandContour         0\n",
       "Utilities           2\n",
       "LotConfig           0\n",
       "LandSlope           0\n",
       "Neighborhood        0\n",
       "Condition1          0\n",
       "Condition2          0\n",
       "BldgType            0\n",
       "HouseStyle          0\n",
       "RoofStyle           0\n",
       "RoofMatl            0\n",
       "Exterior1st         1\n",
       "Exterior2nd         1\n",
       "MasVnrType         24\n",
       "ExterQual           0\n",
       "ExterCond           0\n",
       "Foundation          0\n",
       "BsmtQual           81\n",
       "BsmtCond           82\n",
       "BsmtExposure       82\n",
       "BsmtFinType1       79\n",
       "BsmtFinType2       80\n",
       "Heating             0\n",
       "HeatingQC           0\n",
       "CentralAir          0\n",
       "Electrical          1\n",
       "KitchenQual         1\n",
       "Functional          2\n",
       "FireplaceQu      1420\n",
       "GarageType        157\n",
       "GarageFinish      159\n",
       "GarageQual        159\n",
       "GarageCond        159\n",
       "PavedDrive          0\n",
       "PoolQC           2909\n",
       "Fence            2348\n",
       "MiscFeature      2814\n",
       "SaleType            1\n",
       "SaleCondition       0\n",
       "dtype: int64"
      ]
     },
     "execution_count": 26,
     "metadata": {},
     "output_type": "execute_result"
    }
   ],
   "source": [
    "## 觀察篩選過後的資料並填補空值\n",
    "\n",
    "data_obj.isnull().sum()"
   ]
  },
  {
   "cell_type": "code",
   "execution_count": 27,
   "id": "755cc9b3",
   "metadata": {
    "execution": {
     "iopub.execute_input": "2023-06-27T03:39:57.940674Z",
     "iopub.status.busy": "2023-06-27T03:39:57.940030Z",
     "iopub.status.idle": "2023-06-27T03:39:58.001539Z",
     "shell.execute_reply": "2023-06-27T03:39:58.000007Z"
    },
    "papermill": {
     "duration": 0.088942,
     "end_time": "2023-06-27T03:39:58.004117",
     "exception": false,
     "start_time": "2023-06-27T03:39:57.915175",
     "status": "completed"
    },
    "tags": []
   },
   "outputs": [
    {
     "name": "stdout",
     "output_type": "stream",
     "text": [
      "MSZoning            0\n",
      "Street              0\n",
      "Alley            2721\n",
      "LotShape            0\n",
      "LandContour         0\n",
      "Utilities           0\n",
      "LotConfig           0\n",
      "LandSlope           0\n",
      "Neighborhood        0\n",
      "Condition1          0\n",
      "Condition2          0\n",
      "BldgType            0\n",
      "HouseStyle          0\n",
      "RoofStyle           0\n",
      "RoofMatl            0\n",
      "Exterior1st         0\n",
      "Exterior2nd         0\n",
      "MasVnrType          0\n",
      "ExterQual           0\n",
      "ExterCond           0\n",
      "Foundation          0\n",
      "BsmtQual           81\n",
      "BsmtCond           82\n",
      "BsmtExposure       82\n",
      "BsmtFinType1       79\n",
      "BsmtFinType2       80\n",
      "Heating             0\n",
      "HeatingQC           0\n",
      "CentralAir          0\n",
      "Electrical          0\n",
      "KitchenQual         0\n",
      "Functional          0\n",
      "FireplaceQu      1420\n",
      "GarageType        157\n",
      "GarageFinish      159\n",
      "GarageQual        159\n",
      "GarageCond        159\n",
      "PavedDrive          0\n",
      "PoolQC           2909\n",
      "Fence            2348\n",
      "MiscFeature      2814\n",
      "SaleType            0\n",
      "SaleCondition       0\n",
      "dtype: int64\n"
     ]
    }
   ],
   "source": [
    "## MSZoning(4), Exterior1st(1), Exterior2nd(1), MasVnrType(24), BsmtQual\n",
    "## BsmtCond, BsmtExposure, BsmtFinType1, BsmtFinType2, KitchenQual(1)\n",
    "## FireplaceQu, GarageType, GarageFinish, GarageQual, SaleType(1) 有空值\n",
    "\n",
    "obj_filled = ['MSZoning', 'Exterior1st', 'Exterior2nd', 'MasVnrType', 'KitchenQual', 'SaleType', 'Electrical', 'Functional', 'Utilities']\n",
    "\n",
    "## 將缺失值較少的特徵以最多占比的類別填入空值\n",
    "for feature in obj_filled:\n",
    "    ## 獲取特徵中出現最多次的類別\n",
    "    most_common_category = data_obj[feature].mode().iloc[0]\n",
    "    ## 將空值填入出現最多次的類別\n",
    "    data_obj[feature].fillna(most_common_category, inplace=True)\n",
    "\n",
    "## 確認是否空值已被填滿\n",
    "\n",
    "print(data_obj.isnull().sum())"
   ]
  },
  {
   "cell_type": "code",
   "execution_count": 28,
   "id": "9ec7edce",
   "metadata": {
    "execution": {
     "iopub.execute_input": "2023-06-27T03:39:58.053397Z",
     "iopub.status.busy": "2023-06-27T03:39:58.052992Z",
     "iopub.status.idle": "2023-06-27T03:39:58.057521Z",
     "shell.execute_reply": "2023-06-27T03:39:58.056733Z"
    },
    "papermill": {
     "duration": 0.031643,
     "end_time": "2023-06-27T03:39:58.059528",
     "exception": false,
     "start_time": "2023-06-27T03:39:58.027885",
     "status": "completed"
    },
    "tags": []
   },
   "outputs": [],
   "source": [
    "## 這邊剩下來的空值都偏多，參考了一下discussion的方法\n",
    "## I solved this by creating an N/A category to handle\n",
    "## the non existence of the fireplaces and other home amenities.\n",
    "## I also did the same for their Quality rankings.\n",
    "## I ended up making a custom Ordinal encoder to rank the qualities and conditions columns\n",
    "## with N/A being represented by 0.\n",
    "## 仔細去看缺失值的特徵，多數是有好壞等級之分的資料\n",
    "## 因此我們可以將特徵的類別轉成數字，並設空值為最低分\n",
    "## 剩這九項:\n",
    "## BsmtQual,BsmtCond,BsmtExposure,BsmtFinType1,BsmtFinType2,FireplaceQu,GarageType,GarageFinish,GarageQual"
   ]
  },
  {
   "cell_type": "code",
   "execution_count": 29,
   "id": "2831abbd",
   "metadata": {
    "execution": {
     "iopub.execute_input": "2023-06-27T03:39:58.108590Z",
     "iopub.status.busy": "2023-06-27T03:39:58.107970Z",
     "iopub.status.idle": "2023-06-27T03:39:58.119269Z",
     "shell.execute_reply": "2023-06-27T03:39:58.117519Z"
    },
    "papermill": {
     "duration": 0.038908,
     "end_time": "2023-06-27T03:39:58.122036",
     "exception": false,
     "start_time": "2023-06-27T03:39:58.083128",
     "status": "completed"
    },
    "tags": []
   },
   "outputs": [
    {
     "name": "stdout",
     "output_type": "stream",
     "text": [
      "Alley\n",
      "[nan 'Grvl' 'Pave']\n",
      "BsmtQual\n",
      "['Gd' 'TA' 'Ex' nan 'Fa']\n",
      "BsmtCond\n",
      "['TA' 'Gd' nan 'Fa' 'Po']\n",
      "FireplaceQu\n",
      "[nan 'TA' 'Gd' 'Fa' 'Ex' 'Po']\n",
      "GarageQual\n",
      "['TA' 'Fa' 'Gd' nan 'Ex' 'Po']\n",
      "BsmtFinType1\n",
      "['GLQ' 'ALQ' 'Unf' 'Rec' 'BLQ' nan 'LwQ']\n",
      "BsmtFinType2\n",
      "['Unf' 'BLQ' nan 'ALQ' 'Rec' 'LwQ' 'GLQ']\n",
      "BsmtExposure\n",
      "['No' 'Gd' 'Mn' 'Av' nan]\n",
      "GarageType\n",
      "['Attchd' 'Detchd' 'BuiltIn' 'CarPort' nan 'Basment' '2Types']\n",
      "GarageFinish\n",
      "['RFn' 'Unf' 'Fin' nan]\n"
     ]
    }
   ],
   "source": [
    "## 觀察特徵內有哪些類別\n",
    "\n",
    "feature_list = ['Alley', 'BsmtQual', 'BsmtCond', 'FireplaceQu', 'GarageQual', 'BsmtFinType1', 'BsmtFinType2', 'BsmtExposure', 'GarageType', 'GarageFinish']\n",
    "for feature in feature_list:\n",
    "    print(feature)\n",
    "    print(data_obj[feature].unique())"
   ]
  },
  {
   "cell_type": "code",
   "execution_count": 30,
   "id": "d4b7acc3",
   "metadata": {
    "execution": {
     "iopub.execute_input": "2023-06-27T03:39:58.171668Z",
     "iopub.status.busy": "2023-06-27T03:39:58.170966Z",
     "iopub.status.idle": "2023-06-27T03:39:58.238657Z",
     "shell.execute_reply": "2023-06-27T03:39:58.237527Z"
    },
    "papermill": {
     "duration": 0.095507,
     "end_time": "2023-06-27T03:39:58.241157",
     "exception": false,
     "start_time": "2023-06-27T03:39:58.145650",
     "status": "completed"
    },
    "tags": []
   },
   "outputs": [
    {
     "name": "stdout",
     "output_type": "stream",
     "text": [
      "MSZoning            0\n",
      "Street              0\n",
      "Alley               0\n",
      "LotShape            0\n",
      "LandContour         0\n",
      "Utilities           0\n",
      "LotConfig           0\n",
      "LandSlope           0\n",
      "Neighborhood        0\n",
      "Condition1          0\n",
      "Condition2          0\n",
      "BldgType            0\n",
      "HouseStyle          0\n",
      "RoofStyle           0\n",
      "RoofMatl            0\n",
      "Exterior1st         0\n",
      "Exterior2nd         0\n",
      "MasVnrType          0\n",
      "ExterQual           0\n",
      "ExterCond           0\n",
      "Foundation          0\n",
      "BsmtQual            0\n",
      "BsmtCond            0\n",
      "BsmtExposure        0\n",
      "BsmtFinType1        0\n",
      "BsmtFinType2        0\n",
      "Heating             0\n",
      "HeatingQC           0\n",
      "CentralAir          0\n",
      "Electrical          0\n",
      "KitchenQual         0\n",
      "Functional          0\n",
      "FireplaceQu         0\n",
      "GarageType          0\n",
      "GarageFinish        0\n",
      "GarageQual          0\n",
      "GarageCond        159\n",
      "PavedDrive          0\n",
      "PoolQC           2909\n",
      "Fence            2348\n",
      "MiscFeature      2814\n",
      "SaleType            0\n",
      "SaleCondition       0\n",
      "dtype: int64\n"
     ]
    }
   ],
   "source": [
    "## 填補剩下的9個空值\n",
    "\n",
    "obj_filled_2 = ['Alley', 'BsmtQual', 'BsmtCond', 'FireplaceQu', 'GarageQual', 'BsmtFinType1', 'BsmtFinType2', 'BsmtExposure', 'GarageType', 'GarageFinish']\n",
    "\n",
    "for feature in obj_filled_2:\n",
    "    data_obj[feature] = data_obj[feature].fillna('NA')\n",
    "    \n",
    "## 確認是否填補資料\n",
    "\n",
    "print(data_obj.isnull().sum())"
   ]
  },
  {
   "cell_type": "code",
   "execution_count": 31,
   "id": "9fad74e6",
   "metadata": {
    "execution": {
     "iopub.execute_input": "2023-06-27T03:39:58.291111Z",
     "iopub.status.busy": "2023-06-27T03:39:58.290694Z",
     "iopub.status.idle": "2023-06-27T03:39:58.320750Z",
     "shell.execute_reply": "2023-06-27T03:39:58.319402Z"
    },
    "papermill": {
     "duration": 0.058025,
     "end_time": "2023-06-27T03:39:58.323077",
     "exception": false,
     "start_time": "2023-06-27T03:39:58.265052",
     "status": "completed"
    },
    "tags": []
   },
   "outputs": [
    {
     "data": {
      "text/html": [
       "<div>\n",
       "<style scoped>\n",
       "    .dataframe tbody tr th:only-of-type {\n",
       "        vertical-align: middle;\n",
       "    }\n",
       "\n",
       "    .dataframe tbody tr th {\n",
       "        vertical-align: top;\n",
       "    }\n",
       "\n",
       "    .dataframe thead th {\n",
       "        text-align: right;\n",
       "    }\n",
       "</style>\n",
       "<table border=\"1\" class=\"dataframe\">\n",
       "  <thead>\n",
       "    <tr style=\"text-align: right;\">\n",
       "      <th></th>\n",
       "      <th>Id</th>\n",
       "      <th>MSSubClass</th>\n",
       "      <th>LotFrontage</th>\n",
       "      <th>LotArea</th>\n",
       "      <th>OverallQual</th>\n",
       "      <th>OverallCond</th>\n",
       "      <th>YearBuilt</th>\n",
       "      <th>YearRemodAdd</th>\n",
       "      <th>MasVnrArea</th>\n",
       "      <th>BsmtFinSF1</th>\n",
       "      <th>...</th>\n",
       "      <th>GarageType</th>\n",
       "      <th>GarageFinish</th>\n",
       "      <th>GarageQual</th>\n",
       "      <th>GarageCond</th>\n",
       "      <th>PavedDrive</th>\n",
       "      <th>PoolQC</th>\n",
       "      <th>Fence</th>\n",
       "      <th>MiscFeature</th>\n",
       "      <th>SaleType</th>\n",
       "      <th>SaleCondition</th>\n",
       "    </tr>\n",
       "  </thead>\n",
       "  <tbody>\n",
       "    <tr>\n",
       "      <th>0</th>\n",
       "      <td>1</td>\n",
       "      <td>60</td>\n",
       "      <td>65.0</td>\n",
       "      <td>8450</td>\n",
       "      <td>7</td>\n",
       "      <td>5</td>\n",
       "      <td>2003</td>\n",
       "      <td>2003</td>\n",
       "      <td>196.0</td>\n",
       "      <td>706.0</td>\n",
       "      <td>...</td>\n",
       "      <td>Attchd</td>\n",
       "      <td>RFn</td>\n",
       "      <td>TA</td>\n",
       "      <td>TA</td>\n",
       "      <td>Y</td>\n",
       "      <td>NaN</td>\n",
       "      <td>NaN</td>\n",
       "      <td>NaN</td>\n",
       "      <td>WD</td>\n",
       "      <td>Normal</td>\n",
       "    </tr>\n",
       "    <tr>\n",
       "      <th>1</th>\n",
       "      <td>2</td>\n",
       "      <td>20</td>\n",
       "      <td>80.0</td>\n",
       "      <td>9600</td>\n",
       "      <td>6</td>\n",
       "      <td>8</td>\n",
       "      <td>1976</td>\n",
       "      <td>1976</td>\n",
       "      <td>0.0</td>\n",
       "      <td>978.0</td>\n",
       "      <td>...</td>\n",
       "      <td>Attchd</td>\n",
       "      <td>RFn</td>\n",
       "      <td>TA</td>\n",
       "      <td>TA</td>\n",
       "      <td>Y</td>\n",
       "      <td>NaN</td>\n",
       "      <td>NaN</td>\n",
       "      <td>NaN</td>\n",
       "      <td>WD</td>\n",
       "      <td>Normal</td>\n",
       "    </tr>\n",
       "    <tr>\n",
       "      <th>2</th>\n",
       "      <td>3</td>\n",
       "      <td>60</td>\n",
       "      <td>68.0</td>\n",
       "      <td>11250</td>\n",
       "      <td>7</td>\n",
       "      <td>5</td>\n",
       "      <td>2001</td>\n",
       "      <td>2002</td>\n",
       "      <td>162.0</td>\n",
       "      <td>486.0</td>\n",
       "      <td>...</td>\n",
       "      <td>Attchd</td>\n",
       "      <td>RFn</td>\n",
       "      <td>TA</td>\n",
       "      <td>TA</td>\n",
       "      <td>Y</td>\n",
       "      <td>NaN</td>\n",
       "      <td>NaN</td>\n",
       "      <td>NaN</td>\n",
       "      <td>WD</td>\n",
       "      <td>Normal</td>\n",
       "    </tr>\n",
       "    <tr>\n",
       "      <th>3</th>\n",
       "      <td>4</td>\n",
       "      <td>70</td>\n",
       "      <td>60.0</td>\n",
       "      <td>9550</td>\n",
       "      <td>7</td>\n",
       "      <td>5</td>\n",
       "      <td>1915</td>\n",
       "      <td>1970</td>\n",
       "      <td>0.0</td>\n",
       "      <td>216.0</td>\n",
       "      <td>...</td>\n",
       "      <td>Detchd</td>\n",
       "      <td>Unf</td>\n",
       "      <td>TA</td>\n",
       "      <td>TA</td>\n",
       "      <td>Y</td>\n",
       "      <td>NaN</td>\n",
       "      <td>NaN</td>\n",
       "      <td>NaN</td>\n",
       "      <td>WD</td>\n",
       "      <td>Abnorml</td>\n",
       "    </tr>\n",
       "    <tr>\n",
       "      <th>4</th>\n",
       "      <td>5</td>\n",
       "      <td>60</td>\n",
       "      <td>84.0</td>\n",
       "      <td>14260</td>\n",
       "      <td>8</td>\n",
       "      <td>5</td>\n",
       "      <td>2000</td>\n",
       "      <td>2000</td>\n",
       "      <td>350.0</td>\n",
       "      <td>655.0</td>\n",
       "      <td>...</td>\n",
       "      <td>Attchd</td>\n",
       "      <td>RFn</td>\n",
       "      <td>TA</td>\n",
       "      <td>TA</td>\n",
       "      <td>Y</td>\n",
       "      <td>NaN</td>\n",
       "      <td>NaN</td>\n",
       "      <td>NaN</td>\n",
       "      <td>WD</td>\n",
       "      <td>Normal</td>\n",
       "    </tr>\n",
       "  </tbody>\n",
       "</table>\n",
       "<p>5 rows × 81 columns</p>\n",
       "</div>"
      ],
      "text/plain": [
       "   Id  MSSubClass  LotFrontage  LotArea  OverallQual  OverallCond  YearBuilt  \\\n",
       "0   1          60         65.0     8450            7            5       2003   \n",
       "1   2          20         80.0     9600            6            8       1976   \n",
       "2   3          60         68.0    11250            7            5       2001   \n",
       "3   4          70         60.0     9550            7            5       1915   \n",
       "4   5          60         84.0    14260            8            5       2000   \n",
       "\n",
       "   YearRemodAdd  MasVnrArea  BsmtFinSF1  ...  GarageType  GarageFinish  \\\n",
       "0          2003       196.0       706.0  ...      Attchd           RFn   \n",
       "1          1976         0.0       978.0  ...      Attchd           RFn   \n",
       "2          2002       162.0       486.0  ...      Attchd           RFn   \n",
       "3          1970         0.0       216.0  ...      Detchd           Unf   \n",
       "4          2000       350.0       655.0  ...      Attchd           RFn   \n",
       "\n",
       "   GarageQual  GarageCond  PavedDrive  PoolQC  Fence  MiscFeature  SaleType  \\\n",
       "0          TA          TA           Y     NaN    NaN          NaN        WD   \n",
       "1          TA          TA           Y     NaN    NaN          NaN        WD   \n",
       "2          TA          TA           Y     NaN    NaN          NaN        WD   \n",
       "3          TA          TA           Y     NaN    NaN          NaN        WD   \n",
       "4          TA          TA           Y     NaN    NaN          NaN        WD   \n",
       "\n",
       "   SaleCondition  \n",
       "0         Normal  \n",
       "1         Normal  \n",
       "2         Normal  \n",
       "3        Abnorml  \n",
       "4         Normal  \n",
       "\n",
       "[5 rows x 81 columns]"
      ]
     },
     "execution_count": 31,
     "metadata": {},
     "output_type": "execute_result"
    }
   ],
   "source": [
    "## 數值部分以及物件部分的空值皆已處理好，將兩者資料合併成一物件，之後處理較方便\n",
    "\n",
    "data_all = pd.concat([data_num, data_obj], axis=1)\n",
    "data_all.head()"
   ]
  },
  {
   "cell_type": "code",
   "execution_count": 32,
   "id": "93ee98ac",
   "metadata": {
    "execution": {
     "iopub.execute_input": "2023-06-27T03:39:58.374489Z",
     "iopub.status.busy": "2023-06-27T03:39:58.374038Z",
     "iopub.status.idle": "2023-06-27T03:39:58.385936Z",
     "shell.execute_reply": "2023-06-27T03:39:58.384401Z"
    },
    "papermill": {
     "duration": 0.040653,
     "end_time": "2023-06-27T03:39:58.388575",
     "exception": false,
     "start_time": "2023-06-27T03:39:58.347922",
     "status": "completed"
    },
    "tags": []
   },
   "outputs": [
    {
     "name": "stdout",
     "output_type": "stream",
     "text": [
      "BsmtQual\n",
      "['Gd' 'TA' 'Ex' 'NA' 'Fa']\n",
      "BsmtCond\n",
      "['TA' 'Gd' 'NA' 'Fa' 'Po']\n",
      "FireplaceQu\n",
      "['NA' 'TA' 'Gd' 'Fa' 'Ex' 'Po']\n",
      "GarageQual\n",
      "['TA' 'Fa' 'Gd' 'NA' 'Ex' 'Po']\n",
      "BsmtFinType1\n",
      "['GLQ' 'ALQ' 'Unf' 'Rec' 'BLQ' 'NA' 'LwQ']\n",
      "BsmtFinType2\n",
      "['Unf' 'BLQ' 'NA' 'ALQ' 'Rec' 'LwQ' 'GLQ']\n",
      "BsmtExposure\n",
      "['No' 'Gd' 'Mn' 'Av' 'NA']\n",
      "GarageType\n",
      "['Attchd' 'Detchd' 'BuiltIn' 'CarPort' 'NA' 'Basment' '2Types']\n",
      "GarageFinish\n",
      "['RFn' 'Unf' 'Fin' 'NA']\n"
     ]
    }
   ],
   "source": [
    "## 確認特徵內有類別是否轉換成功\n",
    "\n",
    "feature_list = ['BsmtQual', 'BsmtCond', 'FireplaceQu', 'GarageQual', 'BsmtFinType1', 'BsmtFinType2', 'BsmtExposure', 'GarageType', 'GarageFinish']\n",
    "for feature in feature_list:\n",
    "    print(feature)\n",
    "    print(data_obj[feature].unique())"
   ]
  },
  {
   "cell_type": "code",
   "execution_count": 33,
   "id": "ea2b4998",
   "metadata": {
    "execution": {
     "iopub.execute_input": "2023-06-27T03:39:58.439557Z",
     "iopub.status.busy": "2023-06-27T03:39:58.439105Z",
     "iopub.status.idle": "2023-06-27T03:39:58.444027Z",
     "shell.execute_reply": "2023-06-27T03:39:58.442949Z"
    },
    "papermill": {
     "duration": 0.033232,
     "end_time": "2023-06-27T03:39:58.446274",
     "exception": false,
     "start_time": "2023-06-27T03:39:58.413042",
     "status": "completed"
    },
    "tags": []
   },
   "outputs": [],
   "source": [
    "## Ex,Gd,TA,Fa,Po,NA:BsmtQual, BsmtCond, FireplaceQu, GarageQual\n",
    "## GLQ,ALQ,BLQ,Rec,LwQ,Unf,NA:BsmtFinType1, BsmtFinType2\n",
    "\n",
    "# BsmtExposure\n",
    "#        Gd\tGood Exposure\n",
    "#        Av\tAverage Exposure (split levels or foyers typically score average or above)\t\n",
    "#        Mn\tMimimum Exposure\n",
    "#        No\tNo Exposure\n",
    "#        NA\tNo Basement\n",
    "\n",
    "# GarageFinish\n",
    "#        Fin\tFinished\n",
    "#        RFn\tRough Finished\n",
    "#        Unf\tUnfinished\n",
    "#        NA  \tNo Garage"
   ]
  },
  {
   "cell_type": "code",
   "execution_count": 34,
   "id": "d6263911",
   "metadata": {
    "execution": {
     "iopub.execute_input": "2023-06-27T03:39:58.497434Z",
     "iopub.status.busy": "2023-06-27T03:39:58.497027Z",
     "iopub.status.idle": "2023-06-27T03:39:58.501824Z",
     "shell.execute_reply": "2023-06-27T03:39:58.500755Z"
    },
    "papermill": {
     "duration": 0.033422,
     "end_time": "2023-06-27T03:39:58.504058",
     "exception": false,
     "start_time": "2023-06-27T03:39:58.470636",
     "status": "completed"
    },
    "tags": []
   },
   "outputs": [],
   "source": [
    "## 接下來進行非數值資料的轉換\n",
    "## 觀察這28個非數值特徵類別的分類\n",
    "## 可以簡單分成: 類別之間有順序 或 類別之間個別獨立\n",
    "## 類別間有順序的也就是上面空值較多的9項\n",
    "## 但是GarageType我覺得比較偏向獨立\n",
    "## 因此只有八項是有等級順序的"
   ]
  },
  {
   "cell_type": "code",
   "execution_count": 35,
   "id": "f9cf0ac4",
   "metadata": {
    "execution": {
     "iopub.execute_input": "2023-06-27T03:39:58.555084Z",
     "iopub.status.busy": "2023-06-27T03:39:58.554673Z",
     "iopub.status.idle": "2023-06-27T03:39:58.597414Z",
     "shell.execute_reply": "2023-06-27T03:39:58.596129Z"
    },
    "papermill": {
     "duration": 0.071803,
     "end_time": "2023-06-27T03:39:58.600189",
     "exception": false,
     "start_time": "2023-06-27T03:39:58.528386",
     "status": "completed"
    },
    "tags": []
   },
   "outputs": [],
   "source": [
    "## 有等級順序的非數值轉換\n",
    "\n",
    "dict1 = {'Ex':5, 'Gd':4, 'TA':3, 'Fa':2, 'Po':1, 'NA':0}\n",
    "feature1 = ['BsmtQual', 'BsmtCond', 'FireplaceQu', 'GarageQual']\n",
    "for feature in feature1:\n",
    "    data_all[feature].replace(dict1, inplace=True)\n",
    "    \n",
    "dict2 = {'GLQ':6,'ALQ':5,'BLQ':4,'Rec':3,'LwQ':2,'Unf':1,'NA':0}\n",
    "feature2 = ['BsmtFinType1', 'BsmtFinType2']\n",
    "for feature in feature2:\n",
    "    data_all[feature].replace(dict2, inplace=True)\n",
    "    \n",
    "dict3 = {'Gd':4, 'Av':3, 'Mn':2, 'No':1, 'NA':0}\n",
    "feature3 = ['BsmtExposure']\n",
    "for feature in feature3:\n",
    "    data_all[feature].replace(dict3, inplace=True)\n",
    "    \n",
    "dict4 = {'Fin':3, 'RFn':2, 'Unf':1, 'NA':0}\n",
    "feature4 = ['GarageFinish']\n",
    "for feature in feature4:\n",
    "    data_all[feature].replace(dict4, inplace=True)"
   ]
  },
  {
   "cell_type": "code",
   "execution_count": 36,
   "id": "4d1cc308",
   "metadata": {
    "execution": {
     "iopub.execute_input": "2023-06-27T03:39:58.650262Z",
     "iopub.status.busy": "2023-06-27T03:39:58.649872Z",
     "iopub.status.idle": "2023-06-27T03:39:58.674564Z",
     "shell.execute_reply": "2023-06-27T03:39:58.673337Z"
    },
    "papermill": {
     "duration": 0.052525,
     "end_time": "2023-06-27T03:39:58.676951",
     "exception": false,
     "start_time": "2023-06-27T03:39:58.624426",
     "status": "completed"
    },
    "tags": []
   },
   "outputs": [
    {
     "data": {
      "text/html": [
       "<div>\n",
       "<style scoped>\n",
       "    .dataframe tbody tr th:only-of-type {\n",
       "        vertical-align: middle;\n",
       "    }\n",
       "\n",
       "    .dataframe tbody tr th {\n",
       "        vertical-align: top;\n",
       "    }\n",
       "\n",
       "    .dataframe thead th {\n",
       "        text-align: right;\n",
       "    }\n",
       "</style>\n",
       "<table border=\"1\" class=\"dataframe\">\n",
       "  <thead>\n",
       "    <tr style=\"text-align: right;\">\n",
       "      <th></th>\n",
       "      <th>Id</th>\n",
       "      <th>MSSubClass</th>\n",
       "      <th>LotFrontage</th>\n",
       "      <th>LotArea</th>\n",
       "      <th>OverallQual</th>\n",
       "      <th>OverallCond</th>\n",
       "      <th>YearBuilt</th>\n",
       "      <th>YearRemodAdd</th>\n",
       "      <th>MasVnrArea</th>\n",
       "      <th>BsmtFinSF1</th>\n",
       "      <th>...</th>\n",
       "      <th>GarageType</th>\n",
       "      <th>GarageFinish</th>\n",
       "      <th>GarageQual</th>\n",
       "      <th>GarageCond</th>\n",
       "      <th>PavedDrive</th>\n",
       "      <th>PoolQC</th>\n",
       "      <th>Fence</th>\n",
       "      <th>MiscFeature</th>\n",
       "      <th>SaleType</th>\n",
       "      <th>SaleCondition</th>\n",
       "    </tr>\n",
       "  </thead>\n",
       "  <tbody>\n",
       "    <tr>\n",
       "      <th>0</th>\n",
       "      <td>1</td>\n",
       "      <td>60</td>\n",
       "      <td>65.0</td>\n",
       "      <td>8450</td>\n",
       "      <td>7</td>\n",
       "      <td>5</td>\n",
       "      <td>2003</td>\n",
       "      <td>2003</td>\n",
       "      <td>196.0</td>\n",
       "      <td>706.0</td>\n",
       "      <td>...</td>\n",
       "      <td>Attchd</td>\n",
       "      <td>2</td>\n",
       "      <td>3</td>\n",
       "      <td>TA</td>\n",
       "      <td>Y</td>\n",
       "      <td>NaN</td>\n",
       "      <td>NaN</td>\n",
       "      <td>NaN</td>\n",
       "      <td>WD</td>\n",
       "      <td>Normal</td>\n",
       "    </tr>\n",
       "    <tr>\n",
       "      <th>1</th>\n",
       "      <td>2</td>\n",
       "      <td>20</td>\n",
       "      <td>80.0</td>\n",
       "      <td>9600</td>\n",
       "      <td>6</td>\n",
       "      <td>8</td>\n",
       "      <td>1976</td>\n",
       "      <td>1976</td>\n",
       "      <td>0.0</td>\n",
       "      <td>978.0</td>\n",
       "      <td>...</td>\n",
       "      <td>Attchd</td>\n",
       "      <td>2</td>\n",
       "      <td>3</td>\n",
       "      <td>TA</td>\n",
       "      <td>Y</td>\n",
       "      <td>NaN</td>\n",
       "      <td>NaN</td>\n",
       "      <td>NaN</td>\n",
       "      <td>WD</td>\n",
       "      <td>Normal</td>\n",
       "    </tr>\n",
       "    <tr>\n",
       "      <th>2</th>\n",
       "      <td>3</td>\n",
       "      <td>60</td>\n",
       "      <td>68.0</td>\n",
       "      <td>11250</td>\n",
       "      <td>7</td>\n",
       "      <td>5</td>\n",
       "      <td>2001</td>\n",
       "      <td>2002</td>\n",
       "      <td>162.0</td>\n",
       "      <td>486.0</td>\n",
       "      <td>...</td>\n",
       "      <td>Attchd</td>\n",
       "      <td>2</td>\n",
       "      <td>3</td>\n",
       "      <td>TA</td>\n",
       "      <td>Y</td>\n",
       "      <td>NaN</td>\n",
       "      <td>NaN</td>\n",
       "      <td>NaN</td>\n",
       "      <td>WD</td>\n",
       "      <td>Normal</td>\n",
       "    </tr>\n",
       "  </tbody>\n",
       "</table>\n",
       "<p>3 rows × 81 columns</p>\n",
       "</div>"
      ],
      "text/plain": [
       "   Id  MSSubClass  LotFrontage  LotArea  OverallQual  OverallCond  YearBuilt  \\\n",
       "0   1          60         65.0     8450            7            5       2003   \n",
       "1   2          20         80.0     9600            6            8       1976   \n",
       "2   3          60         68.0    11250            7            5       2001   \n",
       "\n",
       "   YearRemodAdd  MasVnrArea  BsmtFinSF1  ...  GarageType  GarageFinish  \\\n",
       "0          2003       196.0       706.0  ...      Attchd             2   \n",
       "1          1976         0.0       978.0  ...      Attchd             2   \n",
       "2          2002       162.0       486.0  ...      Attchd             2   \n",
       "\n",
       "   GarageQual  GarageCond  PavedDrive  PoolQC  Fence  MiscFeature  SaleType  \\\n",
       "0           3          TA           Y     NaN    NaN          NaN        WD   \n",
       "1           3          TA           Y     NaN    NaN          NaN        WD   \n",
       "2           3          TA           Y     NaN    NaN          NaN        WD   \n",
       "\n",
       "   SaleCondition  \n",
       "0         Normal  \n",
       "1         Normal  \n",
       "2         Normal  \n",
       "\n",
       "[3 rows x 81 columns]"
      ]
     },
     "execution_count": 36,
     "metadata": {},
     "output_type": "execute_result"
    }
   ],
   "source": [
    "data_all.head(3)"
   ]
  },
  {
   "cell_type": "code",
   "execution_count": 37,
   "id": "ad64e214",
   "metadata": {
    "execution": {
     "iopub.execute_input": "2023-06-27T03:39:58.729842Z",
     "iopub.status.busy": "2023-06-27T03:39:58.729424Z",
     "iopub.status.idle": "2023-06-27T03:39:58.764395Z",
     "shell.execute_reply": "2023-06-27T03:39:58.763615Z"
    },
    "papermill": {
     "duration": 0.063825,
     "end_time": "2023-06-27T03:39:58.766520",
     "exception": false,
     "start_time": "2023-06-27T03:39:58.702695",
     "status": "completed"
    },
    "tags": []
   },
   "outputs": [
    {
     "data": {
      "text/html": [
       "<div>\n",
       "<style scoped>\n",
       "    .dataframe tbody tr th:only-of-type {\n",
       "        vertical-align: middle;\n",
       "    }\n",
       "\n",
       "    .dataframe tbody tr th {\n",
       "        vertical-align: top;\n",
       "    }\n",
       "\n",
       "    .dataframe thead th {\n",
       "        text-align: right;\n",
       "    }\n",
       "</style>\n",
       "<table border=\"1\" class=\"dataframe\">\n",
       "  <thead>\n",
       "    <tr style=\"text-align: right;\">\n",
       "      <th></th>\n",
       "      <th>Id</th>\n",
       "      <th>MSSubClass</th>\n",
       "      <th>LotFrontage</th>\n",
       "      <th>LotArea</th>\n",
       "      <th>OverallQual</th>\n",
       "      <th>OverallCond</th>\n",
       "      <th>YearBuilt</th>\n",
       "      <th>YearRemodAdd</th>\n",
       "      <th>MasVnrArea</th>\n",
       "      <th>BsmtFinSF1</th>\n",
       "      <th>...</th>\n",
       "      <th>GarageFinish</th>\n",
       "      <th>GarageQual</th>\n",
       "      <th>GarageCond</th>\n",
       "      <th>PavedDrive</th>\n",
       "      <th>PoolQC</th>\n",
       "      <th>Fence</th>\n",
       "      <th>MiscFeature</th>\n",
       "      <th>SaleType</th>\n",
       "      <th>SaleCondition</th>\n",
       "      <th>SalePrice</th>\n",
       "    </tr>\n",
       "  </thead>\n",
       "  <tbody>\n",
       "    <tr>\n",
       "      <th>0</th>\n",
       "      <td>1</td>\n",
       "      <td>60</td>\n",
       "      <td>65.0</td>\n",
       "      <td>8450</td>\n",
       "      <td>7</td>\n",
       "      <td>5</td>\n",
       "      <td>2003</td>\n",
       "      <td>2003</td>\n",
       "      <td>196.0</td>\n",
       "      <td>706.0</td>\n",
       "      <td>...</td>\n",
       "      <td>2</td>\n",
       "      <td>3</td>\n",
       "      <td>TA</td>\n",
       "      <td>Y</td>\n",
       "      <td>NaN</td>\n",
       "      <td>NaN</td>\n",
       "      <td>NaN</td>\n",
       "      <td>WD</td>\n",
       "      <td>Normal</td>\n",
       "      <td>208500.0</td>\n",
       "    </tr>\n",
       "    <tr>\n",
       "      <th>1</th>\n",
       "      <td>2</td>\n",
       "      <td>20</td>\n",
       "      <td>80.0</td>\n",
       "      <td>9600</td>\n",
       "      <td>6</td>\n",
       "      <td>8</td>\n",
       "      <td>1976</td>\n",
       "      <td>1976</td>\n",
       "      <td>0.0</td>\n",
       "      <td>978.0</td>\n",
       "      <td>...</td>\n",
       "      <td>2</td>\n",
       "      <td>3</td>\n",
       "      <td>TA</td>\n",
       "      <td>Y</td>\n",
       "      <td>NaN</td>\n",
       "      <td>NaN</td>\n",
       "      <td>NaN</td>\n",
       "      <td>WD</td>\n",
       "      <td>Normal</td>\n",
       "      <td>181500.0</td>\n",
       "    </tr>\n",
       "    <tr>\n",
       "      <th>2</th>\n",
       "      <td>3</td>\n",
       "      <td>60</td>\n",
       "      <td>68.0</td>\n",
       "      <td>11250</td>\n",
       "      <td>7</td>\n",
       "      <td>5</td>\n",
       "      <td>2001</td>\n",
       "      <td>2002</td>\n",
       "      <td>162.0</td>\n",
       "      <td>486.0</td>\n",
       "      <td>...</td>\n",
       "      <td>2</td>\n",
       "      <td>3</td>\n",
       "      <td>TA</td>\n",
       "      <td>Y</td>\n",
       "      <td>NaN</td>\n",
       "      <td>NaN</td>\n",
       "      <td>NaN</td>\n",
       "      <td>WD</td>\n",
       "      <td>Normal</td>\n",
       "      <td>223500.0</td>\n",
       "    </tr>\n",
       "  </tbody>\n",
       "</table>\n",
       "<p>3 rows × 81 columns</p>\n",
       "</div>"
      ],
      "text/plain": [
       "   Id  MSSubClass  LotFrontage  LotArea  OverallQual  OverallCond  YearBuilt  \\\n",
       "0   1          60         65.0     8450            7            5       2003   \n",
       "1   2          20         80.0     9600            6            8       1976   \n",
       "2   3          60         68.0    11250            7            5       2001   \n",
       "\n",
       "   YearRemodAdd  MasVnrArea  BsmtFinSF1  ...  GarageFinish  GarageQual  \\\n",
       "0          2003       196.0       706.0  ...             2           3   \n",
       "1          1976         0.0       978.0  ...             2           3   \n",
       "2          2002       162.0       486.0  ...             2           3   \n",
       "\n",
       "   GarageCond  PavedDrive  PoolQC  Fence  MiscFeature  SaleType  \\\n",
       "0          TA           Y     NaN    NaN          NaN        WD   \n",
       "1          TA           Y     NaN    NaN          NaN        WD   \n",
       "2          TA           Y     NaN    NaN          NaN        WD   \n",
       "\n",
       "   SaleCondition  SalePrice  \n",
       "0         Normal   208500.0  \n",
       "1         Normal   181500.0  \n",
       "2         Normal   223500.0  \n",
       "\n",
       "[3 rows x 81 columns]"
      ]
     },
     "execution_count": 37,
     "metadata": {},
     "output_type": "execute_result"
    }
   ],
   "source": [
    "data_all.drop('SalePrice', axis=1, inplace=True)\n",
    "data_final = pd.concat([data_all, data['SalePrice']], axis=1)\n",
    "# data_final.insert(0, 'Id', data['Id'])\n",
    "# data_final.shape\n",
    "data_final.head(3)"
   ]
  },
  {
   "cell_type": "code",
   "execution_count": 38,
   "id": "1f5f379a",
   "metadata": {
    "execution": {
     "iopub.execute_input": "2023-06-27T03:39:58.819731Z",
     "iopub.status.busy": "2023-06-27T03:39:58.819337Z",
     "iopub.status.idle": "2023-06-27T03:39:58.873298Z",
     "shell.execute_reply": "2023-06-27T03:39:58.871792Z"
    },
    "papermill": {
     "duration": 0.083801,
     "end_time": "2023-06-27T03:39:58.876159",
     "exception": false,
     "start_time": "2023-06-27T03:39:58.792358",
     "status": "completed"
    },
    "tags": []
   },
   "outputs": [
    {
     "name": "stdout",
     "output_type": "stream",
     "text": [
      "<class 'pandas.core.frame.DataFrame'>\n",
      "RangeIndex: 2919 entries, 0 to 2918\n",
      "Data columns (total 81 columns):\n",
      " #   Column         Non-Null Count  Dtype  \n",
      "---  ------         --------------  -----  \n",
      " 0   Id             2919 non-null   int64  \n",
      " 1   MSSubClass     2919 non-null   int64  \n",
      " 2   LotFrontage    2919 non-null   float64\n",
      " 3   LotArea        2919 non-null   int64  \n",
      " 4   OverallQual    2919 non-null   int64  \n",
      " 5   OverallCond    2919 non-null   int64  \n",
      " 6   YearBuilt      2919 non-null   int64  \n",
      " 7   YearRemodAdd   2919 non-null   int64  \n",
      " 8   MasVnrArea     2919 non-null   float64\n",
      " 9   BsmtFinSF1     2919 non-null   float64\n",
      " 10  BsmtFinSF2     2919 non-null   float64\n",
      " 11  BsmtUnfSF      2919 non-null   float64\n",
      " 12  TotalBsmtSF    2919 non-null   float64\n",
      " 13  1stFlrSF       2919 non-null   int64  \n",
      " 14  2ndFlrSF       2919 non-null   int64  \n",
      " 15  LowQualFinSF   2919 non-null   int64  \n",
      " 16  GrLivArea      2919 non-null   int64  \n",
      " 17  BsmtFullBath   2919 non-null   float64\n",
      " 18  BsmtHalfBath   2919 non-null   float64\n",
      " 19  FullBath       2919 non-null   int64  \n",
      " 20  HalfBath       2919 non-null   int64  \n",
      " 21  BedroomAbvGr   2919 non-null   int64  \n",
      " 22  KitchenAbvGr   2919 non-null   int64  \n",
      " 23  TotRmsAbvGrd   2919 non-null   int64  \n",
      " 24  Fireplaces     2919 non-null   int64  \n",
      " 25  GarageYrBlt    2919 non-null   float64\n",
      " 26  GarageCars     2919 non-null   float64\n",
      " 27  GarageArea     2919 non-null   float64\n",
      " 28  WoodDeckSF     2919 non-null   int64  \n",
      " 29  OpenPorchSF    2919 non-null   int64  \n",
      " 30  EnclosedPorch  2919 non-null   int64  \n",
      " 31  3SsnPorch      2919 non-null   int64  \n",
      " 32  ScreenPorch    2919 non-null   int64  \n",
      " 33  PoolArea       2919 non-null   int64  \n",
      " 34  MiscVal        2919 non-null   int64  \n",
      " 35  MoSold         2919 non-null   int64  \n",
      " 36  YrSold         2919 non-null   int64  \n",
      " 37  MSZoning       2919 non-null   object \n",
      " 38  Street         2919 non-null   object \n",
      " 39  Alley          2919 non-null   object \n",
      " 40  LotShape       2919 non-null   object \n",
      " 41  LandContour    2919 non-null   object \n",
      " 42  Utilities      2919 non-null   object \n",
      " 43  LotConfig      2919 non-null   object \n",
      " 44  LandSlope      2919 non-null   object \n",
      " 45  Neighborhood   2919 non-null   object \n",
      " 46  Condition1     2919 non-null   object \n",
      " 47  Condition2     2919 non-null   object \n",
      " 48  BldgType       2919 non-null   object \n",
      " 49  HouseStyle     2919 non-null   object \n",
      " 50  RoofStyle      2919 non-null   object \n",
      " 51  RoofMatl       2919 non-null   object \n",
      " 52  Exterior1st    2919 non-null   object \n",
      " 53  Exterior2nd    2919 non-null   object \n",
      " 54  MasVnrType     2919 non-null   object \n",
      " 55  ExterQual      2919 non-null   object \n",
      " 56  ExterCond      2919 non-null   object \n",
      " 57  Foundation     2919 non-null   object \n",
      " 58  BsmtQual       2919 non-null   int64  \n",
      " 59  BsmtCond       2919 non-null   int64  \n",
      " 60  BsmtExposure   2919 non-null   int64  \n",
      " 61  BsmtFinType1   2919 non-null   int64  \n",
      " 62  BsmtFinType2   2919 non-null   int64  \n",
      " 63  Heating        2919 non-null   object \n",
      " 64  HeatingQC      2919 non-null   object \n",
      " 65  CentralAir     2919 non-null   object \n",
      " 66  Electrical     2919 non-null   object \n",
      " 67  KitchenQual    2919 non-null   object \n",
      " 68  Functional     2919 non-null   object \n",
      " 69  FireplaceQu    2919 non-null   int64  \n",
      " 70  GarageType     2919 non-null   object \n",
      " 71  GarageFinish   2919 non-null   int64  \n",
      " 72  GarageQual     2919 non-null   int64  \n",
      " 73  GarageCond     2760 non-null   object \n",
      " 74  PavedDrive     2919 non-null   object \n",
      " 75  PoolQC         10 non-null     object \n",
      " 76  Fence          571 non-null    object \n",
      " 77  MiscFeature    105 non-null    object \n",
      " 78  SaleType       2919 non-null   object \n",
      " 79  SaleCondition  2919 non-null   object \n",
      " 80  SalePrice      1460 non-null   float64\n",
      "dtypes: float64(12), int64(34), object(35)\n",
      "memory usage: 1.8+ MB\n"
     ]
    }
   ],
   "source": [
    "data_final.info()"
   ]
  },
  {
   "cell_type": "code",
   "execution_count": 39,
   "id": "db0d70bc",
   "metadata": {
    "execution": {
     "iopub.execute_input": "2023-06-27T03:39:58.929043Z",
     "iopub.status.busy": "2023-06-27T03:39:58.928657Z",
     "iopub.status.idle": "2023-06-27T03:39:58.946636Z",
     "shell.execute_reply": "2023-06-27T03:39:58.945659Z"
    },
    "papermill": {
     "duration": 0.048077,
     "end_time": "2023-06-27T03:39:58.949797",
     "exception": false,
     "start_time": "2023-06-27T03:39:58.901720",
     "status": "completed"
    },
    "tags": []
   },
   "outputs": [],
   "source": [
    "## 設定訓練資料及測試資料\n",
    "\n",
    "dataTrain = data_final[pd.notnull(data['SalePrice'])].sort_values(by=['Id'])\n",
    "dataTest = data_final[~pd.notnull(data['SalePrice'])].sort_values(by=['Id'])"
   ]
  },
  {
   "cell_type": "code",
   "execution_count": 40,
   "id": "4ff7e332",
   "metadata": {
    "execution": {
     "iopub.execute_input": "2023-06-27T03:39:59.004372Z",
     "iopub.status.busy": "2023-06-27T03:39:59.003357Z",
     "iopub.status.idle": "2023-06-27T03:39:59.010871Z",
     "shell.execute_reply": "2023-06-27T03:39:59.009755Z"
    },
    "papermill": {
     "duration": 0.038068,
     "end_time": "2023-06-27T03:39:59.013142",
     "exception": false,
     "start_time": "2023-06-27T03:39:58.975074",
     "status": "completed"
    },
    "tags": []
   },
   "outputs": [
    {
     "data": {
      "text/plain": [
       "Index(['Id', 'MSSubClass', 'LotFrontage', 'LotArea', 'OverallQual',\n",
       "       'OverallCond', 'YearBuilt', 'YearRemodAdd', 'MasVnrArea', 'BsmtFinSF1',\n",
       "       'BsmtFinSF2', 'BsmtUnfSF', 'TotalBsmtSF', '1stFlrSF', '2ndFlrSF',\n",
       "       'LowQualFinSF', 'GrLivArea', 'BsmtFullBath', 'BsmtHalfBath', 'FullBath',\n",
       "       'HalfBath', 'BedroomAbvGr', 'KitchenAbvGr', 'TotRmsAbvGrd',\n",
       "       'Fireplaces', 'GarageYrBlt', 'GarageCars', 'GarageArea', 'WoodDeckSF',\n",
       "       'OpenPorchSF', 'EnclosedPorch', '3SsnPorch', 'ScreenPorch', 'PoolArea',\n",
       "       'MiscVal', 'MoSold', 'YrSold', 'MSZoning', 'Street', 'Alley',\n",
       "       'LotShape', 'LandContour', 'Utilities', 'LotConfig', 'LandSlope',\n",
       "       'Neighborhood', 'Condition1', 'Condition2', 'BldgType', 'HouseStyle',\n",
       "       'RoofStyle', 'RoofMatl', 'Exterior1st', 'Exterior2nd', 'MasVnrType',\n",
       "       'ExterQual', 'ExterCond', 'Foundation', 'BsmtQual', 'BsmtCond',\n",
       "       'BsmtExposure', 'BsmtFinType1', 'BsmtFinType2', 'Heating', 'HeatingQC',\n",
       "       'CentralAir', 'Electrical', 'KitchenQual', 'Functional', 'FireplaceQu',\n",
       "       'GarageType', 'GarageFinish', 'GarageQual', 'GarageCond', 'PavedDrive',\n",
       "       'PoolQC', 'Fence', 'MiscFeature', 'SaleType', 'SaleCondition',\n",
       "       'SalePrice'],\n",
       "      dtype='object')"
      ]
     },
     "execution_count": 40,
     "metadata": {},
     "output_type": "execute_result"
    }
   ],
   "source": [
    "## 列出dataTrain的欄位\n",
    "\n",
    "dataTrain.columns"
   ]
  },
  {
   "cell_type": "code",
   "execution_count": 41,
   "id": "c81799e4",
   "metadata": {
    "execution": {
     "iopub.execute_input": "2023-06-27T03:39:59.066392Z",
     "iopub.status.busy": "2023-06-27T03:39:59.065496Z",
     "iopub.status.idle": "2023-06-27T03:39:59.074864Z",
     "shell.execute_reply": "2023-06-27T03:39:59.073755Z"
    },
    "papermill": {
     "duration": 0.038668,
     "end_time": "2023-06-27T03:39:59.077452",
     "exception": false,
     "start_time": "2023-06-27T03:39:59.038784",
     "status": "completed"
    },
    "tags": []
   },
   "outputs": [],
   "source": [
    "## 重新選擇欄位\n",
    "## dataTrain把Id去掉\n",
    "## dataTest把Id和SalePrice去掉\n",
    "\n",
    "dataTrain = dataTrain.iloc[:, 1:]\n",
    "dataTest = dataTest.iloc[:, 1:-1]"
   ]
  },
  {
   "cell_type": "code",
   "execution_count": 42,
   "id": "637d91d5",
   "metadata": {
    "execution": {
     "iopub.execute_input": "2023-06-27T03:39:59.129866Z",
     "iopub.status.busy": "2023-06-27T03:39:59.129432Z",
     "iopub.status.idle": "2023-06-27T03:39:59.155632Z",
     "shell.execute_reply": "2023-06-27T03:39:59.154833Z"
    },
    "papermill": {
     "duration": 0.054943,
     "end_time": "2023-06-27T03:39:59.157848",
     "exception": false,
     "start_time": "2023-06-27T03:39:59.102905",
     "status": "completed"
    },
    "tags": []
   },
   "outputs": [
    {
     "data": {
      "text/html": [
       "<div>\n",
       "<style scoped>\n",
       "    .dataframe tbody tr th:only-of-type {\n",
       "        vertical-align: middle;\n",
       "    }\n",
       "\n",
       "    .dataframe tbody tr th {\n",
       "        vertical-align: top;\n",
       "    }\n",
       "\n",
       "    .dataframe thead th {\n",
       "        text-align: right;\n",
       "    }\n",
       "</style>\n",
       "<table border=\"1\" class=\"dataframe\">\n",
       "  <thead>\n",
       "    <tr style=\"text-align: right;\">\n",
       "      <th></th>\n",
       "      <th>MSSubClass</th>\n",
       "      <th>LotFrontage</th>\n",
       "      <th>LotArea</th>\n",
       "      <th>OverallQual</th>\n",
       "      <th>OverallCond</th>\n",
       "      <th>YearBuilt</th>\n",
       "      <th>YearRemodAdd</th>\n",
       "      <th>MasVnrArea</th>\n",
       "      <th>BsmtFinSF1</th>\n",
       "      <th>BsmtFinSF2</th>\n",
       "      <th>...</th>\n",
       "      <th>GarageFinish</th>\n",
       "      <th>GarageQual</th>\n",
       "      <th>GarageCond</th>\n",
       "      <th>PavedDrive</th>\n",
       "      <th>PoolQC</th>\n",
       "      <th>Fence</th>\n",
       "      <th>MiscFeature</th>\n",
       "      <th>SaleType</th>\n",
       "      <th>SaleCondition</th>\n",
       "      <th>SalePrice</th>\n",
       "    </tr>\n",
       "  </thead>\n",
       "  <tbody>\n",
       "    <tr>\n",
       "      <th>0</th>\n",
       "      <td>60</td>\n",
       "      <td>65.0</td>\n",
       "      <td>8450</td>\n",
       "      <td>7</td>\n",
       "      <td>5</td>\n",
       "      <td>2003</td>\n",
       "      <td>2003</td>\n",
       "      <td>196.0</td>\n",
       "      <td>706.0</td>\n",
       "      <td>0.0</td>\n",
       "      <td>...</td>\n",
       "      <td>2</td>\n",
       "      <td>3</td>\n",
       "      <td>TA</td>\n",
       "      <td>Y</td>\n",
       "      <td>NaN</td>\n",
       "      <td>NaN</td>\n",
       "      <td>NaN</td>\n",
       "      <td>WD</td>\n",
       "      <td>Normal</td>\n",
       "      <td>208500.0</td>\n",
       "    </tr>\n",
       "    <tr>\n",
       "      <th>1</th>\n",
       "      <td>20</td>\n",
       "      <td>80.0</td>\n",
       "      <td>9600</td>\n",
       "      <td>6</td>\n",
       "      <td>8</td>\n",
       "      <td>1976</td>\n",
       "      <td>1976</td>\n",
       "      <td>0.0</td>\n",
       "      <td>978.0</td>\n",
       "      <td>0.0</td>\n",
       "      <td>...</td>\n",
       "      <td>2</td>\n",
       "      <td>3</td>\n",
       "      <td>TA</td>\n",
       "      <td>Y</td>\n",
       "      <td>NaN</td>\n",
       "      <td>NaN</td>\n",
       "      <td>NaN</td>\n",
       "      <td>WD</td>\n",
       "      <td>Normal</td>\n",
       "      <td>181500.0</td>\n",
       "    </tr>\n",
       "    <tr>\n",
       "      <th>2</th>\n",
       "      <td>60</td>\n",
       "      <td>68.0</td>\n",
       "      <td>11250</td>\n",
       "      <td>7</td>\n",
       "      <td>5</td>\n",
       "      <td>2001</td>\n",
       "      <td>2002</td>\n",
       "      <td>162.0</td>\n",
       "      <td>486.0</td>\n",
       "      <td>0.0</td>\n",
       "      <td>...</td>\n",
       "      <td>2</td>\n",
       "      <td>3</td>\n",
       "      <td>TA</td>\n",
       "      <td>Y</td>\n",
       "      <td>NaN</td>\n",
       "      <td>NaN</td>\n",
       "      <td>NaN</td>\n",
       "      <td>WD</td>\n",
       "      <td>Normal</td>\n",
       "      <td>223500.0</td>\n",
       "    </tr>\n",
       "  </tbody>\n",
       "</table>\n",
       "<p>3 rows × 80 columns</p>\n",
       "</div>"
      ],
      "text/plain": [
       "   MSSubClass  LotFrontage  LotArea  OverallQual  OverallCond  YearBuilt  \\\n",
       "0          60         65.0     8450            7            5       2003   \n",
       "1          20         80.0     9600            6            8       1976   \n",
       "2          60         68.0    11250            7            5       2001   \n",
       "\n",
       "   YearRemodAdd  MasVnrArea  BsmtFinSF1  BsmtFinSF2  ...  GarageFinish  \\\n",
       "0          2003       196.0       706.0         0.0  ...             2   \n",
       "1          1976         0.0       978.0         0.0  ...             2   \n",
       "2          2002       162.0       486.0         0.0  ...             2   \n",
       "\n",
       "   GarageQual  GarageCond  PavedDrive  PoolQC  Fence  MiscFeature  SaleType  \\\n",
       "0           3          TA           Y     NaN    NaN          NaN        WD   \n",
       "1           3          TA           Y     NaN    NaN          NaN        WD   \n",
       "2           3          TA           Y     NaN    NaN          NaN        WD   \n",
       "\n",
       "   SaleCondition  SalePrice  \n",
       "0         Normal   208500.0  \n",
       "1         Normal   181500.0  \n",
       "2         Normal   223500.0  \n",
       "\n",
       "[3 rows x 80 columns]"
      ]
     },
     "execution_count": 42,
     "metadata": {},
     "output_type": "execute_result"
    }
   ],
   "source": [
    "dataTrain.head(3)"
   ]
  },
  {
   "cell_type": "code",
   "execution_count": 43,
   "id": "04c4cf06",
   "metadata": {
    "execution": {
     "iopub.execute_input": "2023-06-27T03:39:59.211048Z",
     "iopub.status.busy": "2023-06-27T03:39:59.210653Z",
     "iopub.status.idle": "2023-06-27T03:39:59.237225Z",
     "shell.execute_reply": "2023-06-27T03:39:59.235760Z"
    },
    "papermill": {
     "duration": 0.056166,
     "end_time": "2023-06-27T03:39:59.239810",
     "exception": false,
     "start_time": "2023-06-27T03:39:59.183644",
     "status": "completed"
    },
    "tags": []
   },
   "outputs": [
    {
     "data": {
      "text/html": [
       "<div>\n",
       "<style scoped>\n",
       "    .dataframe tbody tr th:only-of-type {\n",
       "        vertical-align: middle;\n",
       "    }\n",
       "\n",
       "    .dataframe tbody tr th {\n",
       "        vertical-align: top;\n",
       "    }\n",
       "\n",
       "    .dataframe thead th {\n",
       "        text-align: right;\n",
       "    }\n",
       "</style>\n",
       "<table border=\"1\" class=\"dataframe\">\n",
       "  <thead>\n",
       "    <tr style=\"text-align: right;\">\n",
       "      <th></th>\n",
       "      <th>MSSubClass</th>\n",
       "      <th>LotFrontage</th>\n",
       "      <th>LotArea</th>\n",
       "      <th>OverallQual</th>\n",
       "      <th>OverallCond</th>\n",
       "      <th>YearBuilt</th>\n",
       "      <th>YearRemodAdd</th>\n",
       "      <th>MasVnrArea</th>\n",
       "      <th>BsmtFinSF1</th>\n",
       "      <th>BsmtFinSF2</th>\n",
       "      <th>...</th>\n",
       "      <th>GarageType</th>\n",
       "      <th>GarageFinish</th>\n",
       "      <th>GarageQual</th>\n",
       "      <th>GarageCond</th>\n",
       "      <th>PavedDrive</th>\n",
       "      <th>PoolQC</th>\n",
       "      <th>Fence</th>\n",
       "      <th>MiscFeature</th>\n",
       "      <th>SaleType</th>\n",
       "      <th>SaleCondition</th>\n",
       "    </tr>\n",
       "  </thead>\n",
       "  <tbody>\n",
       "    <tr>\n",
       "      <th>1460</th>\n",
       "      <td>20</td>\n",
       "      <td>80.0</td>\n",
       "      <td>11622</td>\n",
       "      <td>5</td>\n",
       "      <td>6</td>\n",
       "      <td>1961</td>\n",
       "      <td>1961</td>\n",
       "      <td>0.0</td>\n",
       "      <td>468.0</td>\n",
       "      <td>144.0</td>\n",
       "      <td>...</td>\n",
       "      <td>Attchd</td>\n",
       "      <td>1</td>\n",
       "      <td>3</td>\n",
       "      <td>TA</td>\n",
       "      <td>Y</td>\n",
       "      <td>NaN</td>\n",
       "      <td>MnPrv</td>\n",
       "      <td>NaN</td>\n",
       "      <td>WD</td>\n",
       "      <td>Normal</td>\n",
       "    </tr>\n",
       "    <tr>\n",
       "      <th>1461</th>\n",
       "      <td>20</td>\n",
       "      <td>81.0</td>\n",
       "      <td>14267</td>\n",
       "      <td>6</td>\n",
       "      <td>6</td>\n",
       "      <td>1958</td>\n",
       "      <td>1958</td>\n",
       "      <td>108.0</td>\n",
       "      <td>923.0</td>\n",
       "      <td>0.0</td>\n",
       "      <td>...</td>\n",
       "      <td>Attchd</td>\n",
       "      <td>1</td>\n",
       "      <td>3</td>\n",
       "      <td>TA</td>\n",
       "      <td>Y</td>\n",
       "      <td>NaN</td>\n",
       "      <td>NaN</td>\n",
       "      <td>Gar2</td>\n",
       "      <td>WD</td>\n",
       "      <td>Normal</td>\n",
       "    </tr>\n",
       "    <tr>\n",
       "      <th>1462</th>\n",
       "      <td>60</td>\n",
       "      <td>74.0</td>\n",
       "      <td>13830</td>\n",
       "      <td>5</td>\n",
       "      <td>5</td>\n",
       "      <td>1997</td>\n",
       "      <td>1998</td>\n",
       "      <td>0.0</td>\n",
       "      <td>791.0</td>\n",
       "      <td>0.0</td>\n",
       "      <td>...</td>\n",
       "      <td>Attchd</td>\n",
       "      <td>3</td>\n",
       "      <td>3</td>\n",
       "      <td>TA</td>\n",
       "      <td>Y</td>\n",
       "      <td>NaN</td>\n",
       "      <td>MnPrv</td>\n",
       "      <td>NaN</td>\n",
       "      <td>WD</td>\n",
       "      <td>Normal</td>\n",
       "    </tr>\n",
       "  </tbody>\n",
       "</table>\n",
       "<p>3 rows × 79 columns</p>\n",
       "</div>"
      ],
      "text/plain": [
       "      MSSubClass  LotFrontage  LotArea  OverallQual  OverallCond  YearBuilt  \\\n",
       "1460          20         80.0    11622            5            6       1961   \n",
       "1461          20         81.0    14267            6            6       1958   \n",
       "1462          60         74.0    13830            5            5       1997   \n",
       "\n",
       "      YearRemodAdd  MasVnrArea  BsmtFinSF1  BsmtFinSF2  ...  GarageType  \\\n",
       "1460          1961         0.0       468.0       144.0  ...      Attchd   \n",
       "1461          1958       108.0       923.0         0.0  ...      Attchd   \n",
       "1462          1998         0.0       791.0         0.0  ...      Attchd   \n",
       "\n",
       "      GarageFinish  GarageQual  GarageCond  PavedDrive  PoolQC  Fence  \\\n",
       "1460             1           3          TA           Y     NaN  MnPrv   \n",
       "1461             1           3          TA           Y     NaN    NaN   \n",
       "1462             3           3          TA           Y     NaN  MnPrv   \n",
       "\n",
       "      MiscFeature  SaleType  SaleCondition  \n",
       "1460          NaN        WD         Normal  \n",
       "1461         Gar2        WD         Normal  \n",
       "1462          NaN        WD         Normal  \n",
       "\n",
       "[3 rows x 79 columns]"
      ]
     },
     "execution_count": 43,
     "metadata": {},
     "output_type": "execute_result"
    }
   ],
   "source": [
    "dataTest.head(3)"
   ]
  },
  {
   "cell_type": "code",
   "execution_count": 44,
   "id": "b9e087f9",
   "metadata": {
    "execution": {
     "iopub.execute_input": "2023-06-27T03:39:59.293379Z",
     "iopub.status.busy": "2023-06-27T03:39:59.292980Z",
     "iopub.status.idle": "2023-06-27T03:39:59.329735Z",
     "shell.execute_reply": "2023-06-27T03:39:59.328741Z"
    },
    "papermill": {
     "duration": 0.066336,
     "end_time": "2023-06-27T03:39:59.332208",
     "exception": false,
     "start_time": "2023-06-27T03:39:59.265872",
     "status": "completed"
    },
    "tags": []
   },
   "outputs": [
    {
     "name": "stdout",
     "output_type": "stream",
     "text": [
      "<class 'pandas.core.frame.DataFrame'>\n",
      "Int64Index: 1460 entries, 0 to 1459\n",
      "Data columns (total 80 columns):\n",
      " #   Column         Non-Null Count  Dtype  \n",
      "---  ------         --------------  -----  \n",
      " 0   MSSubClass     1460 non-null   int64  \n",
      " 1   LotFrontage    1460 non-null   float64\n",
      " 2   LotArea        1460 non-null   int64  \n",
      " 3   OverallQual    1460 non-null   int64  \n",
      " 4   OverallCond    1460 non-null   int64  \n",
      " 5   YearBuilt      1460 non-null   int64  \n",
      " 6   YearRemodAdd   1460 non-null   int64  \n",
      " 7   MasVnrArea     1460 non-null   float64\n",
      " 8   BsmtFinSF1     1460 non-null   float64\n",
      " 9   BsmtFinSF2     1460 non-null   float64\n",
      " 10  BsmtUnfSF      1460 non-null   float64\n",
      " 11  TotalBsmtSF    1460 non-null   float64\n",
      " 12  1stFlrSF       1460 non-null   int64  \n",
      " 13  2ndFlrSF       1460 non-null   int64  \n",
      " 14  LowQualFinSF   1460 non-null   int64  \n",
      " 15  GrLivArea      1460 non-null   int64  \n",
      " 16  BsmtFullBath   1460 non-null   float64\n",
      " 17  BsmtHalfBath   1460 non-null   float64\n",
      " 18  FullBath       1460 non-null   int64  \n",
      " 19  HalfBath       1460 non-null   int64  \n",
      " 20  BedroomAbvGr   1460 non-null   int64  \n",
      " 21  KitchenAbvGr   1460 non-null   int64  \n",
      " 22  TotRmsAbvGrd   1460 non-null   int64  \n",
      " 23  Fireplaces     1460 non-null   int64  \n",
      " 24  GarageYrBlt    1460 non-null   float64\n",
      " 25  GarageCars     1460 non-null   float64\n",
      " 26  GarageArea     1460 non-null   float64\n",
      " 27  WoodDeckSF     1460 non-null   int64  \n",
      " 28  OpenPorchSF    1460 non-null   int64  \n",
      " 29  EnclosedPorch  1460 non-null   int64  \n",
      " 30  3SsnPorch      1460 non-null   int64  \n",
      " 31  ScreenPorch    1460 non-null   int64  \n",
      " 32  PoolArea       1460 non-null   int64  \n",
      " 33  MiscVal        1460 non-null   int64  \n",
      " 34  MoSold         1460 non-null   int64  \n",
      " 35  YrSold         1460 non-null   int64  \n",
      " 36  MSZoning       1460 non-null   object \n",
      " 37  Street         1460 non-null   object \n",
      " 38  Alley          1460 non-null   object \n",
      " 39  LotShape       1460 non-null   object \n",
      " 40  LandContour    1460 non-null   object \n",
      " 41  Utilities      1460 non-null   object \n",
      " 42  LotConfig      1460 non-null   object \n",
      " 43  LandSlope      1460 non-null   object \n",
      " 44  Neighborhood   1460 non-null   object \n",
      " 45  Condition1     1460 non-null   object \n",
      " 46  Condition2     1460 non-null   object \n",
      " 47  BldgType       1460 non-null   object \n",
      " 48  HouseStyle     1460 non-null   object \n",
      " 49  RoofStyle      1460 non-null   object \n",
      " 50  RoofMatl       1460 non-null   object \n",
      " 51  Exterior1st    1460 non-null   object \n",
      " 52  Exterior2nd    1460 non-null   object \n",
      " 53  MasVnrType     1460 non-null   object \n",
      " 54  ExterQual      1460 non-null   object \n",
      " 55  ExterCond      1460 non-null   object \n",
      " 56  Foundation     1460 non-null   object \n",
      " 57  BsmtQual       1460 non-null   int64  \n",
      " 58  BsmtCond       1460 non-null   int64  \n",
      " 59  BsmtExposure   1460 non-null   int64  \n",
      " 60  BsmtFinType1   1460 non-null   int64  \n",
      " 61  BsmtFinType2   1460 non-null   int64  \n",
      " 62  Heating        1460 non-null   object \n",
      " 63  HeatingQC      1460 non-null   object \n",
      " 64  CentralAir     1460 non-null   object \n",
      " 65  Electrical     1460 non-null   object \n",
      " 66  KitchenQual    1460 non-null   object \n",
      " 67  Functional     1460 non-null   object \n",
      " 68  FireplaceQu    1460 non-null   int64  \n",
      " 69  GarageType     1460 non-null   object \n",
      " 70  GarageFinish   1460 non-null   int64  \n",
      " 71  GarageQual     1460 non-null   int64  \n",
      " 72  GarageCond     1379 non-null   object \n",
      " 73  PavedDrive     1460 non-null   object \n",
      " 74  PoolQC         7 non-null      object \n",
      " 75  Fence          281 non-null    object \n",
      " 76  MiscFeature    54 non-null     object \n",
      " 77  SaleType       1460 non-null   object \n",
      " 78  SaleCondition  1460 non-null   object \n",
      " 79  SalePrice      1460 non-null   float64\n",
      "dtypes: float64(12), int64(33), object(35)\n",
      "memory usage: 923.9+ KB\n"
     ]
    }
   ],
   "source": [
    "dataTrain.info()"
   ]
  },
  {
   "cell_type": "code",
   "execution_count": 45,
   "id": "6f52ee1b",
   "metadata": {
    "execution": {
     "iopub.execute_input": "2023-06-27T03:39:59.387140Z",
     "iopub.status.busy": "2023-06-27T03:39:59.386350Z",
     "iopub.status.idle": "2023-06-27T03:39:59.419420Z",
     "shell.execute_reply": "2023-06-27T03:39:59.418374Z"
    },
    "papermill": {
     "duration": 0.064129,
     "end_time": "2023-06-27T03:39:59.422776",
     "exception": false,
     "start_time": "2023-06-27T03:39:59.358647",
     "status": "completed"
    },
    "tags": []
   },
   "outputs": [
    {
     "name": "stdout",
     "output_type": "stream",
     "text": [
      "<class 'pandas.core.frame.DataFrame'>\n",
      "Int64Index: 1459 entries, 1460 to 2918\n",
      "Data columns (total 79 columns):\n",
      " #   Column         Non-Null Count  Dtype  \n",
      "---  ------         --------------  -----  \n",
      " 0   MSSubClass     1459 non-null   int64  \n",
      " 1   LotFrontage    1459 non-null   float64\n",
      " 2   LotArea        1459 non-null   int64  \n",
      " 3   OverallQual    1459 non-null   int64  \n",
      " 4   OverallCond    1459 non-null   int64  \n",
      " 5   YearBuilt      1459 non-null   int64  \n",
      " 6   YearRemodAdd   1459 non-null   int64  \n",
      " 7   MasVnrArea     1459 non-null   float64\n",
      " 8   BsmtFinSF1     1459 non-null   float64\n",
      " 9   BsmtFinSF2     1459 non-null   float64\n",
      " 10  BsmtUnfSF      1459 non-null   float64\n",
      " 11  TotalBsmtSF    1459 non-null   float64\n",
      " 12  1stFlrSF       1459 non-null   int64  \n",
      " 13  2ndFlrSF       1459 non-null   int64  \n",
      " 14  LowQualFinSF   1459 non-null   int64  \n",
      " 15  GrLivArea      1459 non-null   int64  \n",
      " 16  BsmtFullBath   1459 non-null   float64\n",
      " 17  BsmtHalfBath   1459 non-null   float64\n",
      " 18  FullBath       1459 non-null   int64  \n",
      " 19  HalfBath       1459 non-null   int64  \n",
      " 20  BedroomAbvGr   1459 non-null   int64  \n",
      " 21  KitchenAbvGr   1459 non-null   int64  \n",
      " 22  TotRmsAbvGrd   1459 non-null   int64  \n",
      " 23  Fireplaces     1459 non-null   int64  \n",
      " 24  GarageYrBlt    1459 non-null   float64\n",
      " 25  GarageCars     1459 non-null   float64\n",
      " 26  GarageArea     1459 non-null   float64\n",
      " 27  WoodDeckSF     1459 non-null   int64  \n",
      " 28  OpenPorchSF    1459 non-null   int64  \n",
      " 29  EnclosedPorch  1459 non-null   int64  \n",
      " 30  3SsnPorch      1459 non-null   int64  \n",
      " 31  ScreenPorch    1459 non-null   int64  \n",
      " 32  PoolArea       1459 non-null   int64  \n",
      " 33  MiscVal        1459 non-null   int64  \n",
      " 34  MoSold         1459 non-null   int64  \n",
      " 35  YrSold         1459 non-null   int64  \n",
      " 36  MSZoning       1459 non-null   object \n",
      " 37  Street         1459 non-null   object \n",
      " 38  Alley          1459 non-null   object \n",
      " 39  LotShape       1459 non-null   object \n",
      " 40  LandContour    1459 non-null   object \n",
      " 41  Utilities      1459 non-null   object \n",
      " 42  LotConfig      1459 non-null   object \n",
      " 43  LandSlope      1459 non-null   object \n",
      " 44  Neighborhood   1459 non-null   object \n",
      " 45  Condition1     1459 non-null   object \n",
      " 46  Condition2     1459 non-null   object \n",
      " 47  BldgType       1459 non-null   object \n",
      " 48  HouseStyle     1459 non-null   object \n",
      " 49  RoofStyle      1459 non-null   object \n",
      " 50  RoofMatl       1459 non-null   object \n",
      " 51  Exterior1st    1459 non-null   object \n",
      " 52  Exterior2nd    1459 non-null   object \n",
      " 53  MasVnrType     1459 non-null   object \n",
      " 54  ExterQual      1459 non-null   object \n",
      " 55  ExterCond      1459 non-null   object \n",
      " 56  Foundation     1459 non-null   object \n",
      " 57  BsmtQual       1459 non-null   int64  \n",
      " 58  BsmtCond       1459 non-null   int64  \n",
      " 59  BsmtExposure   1459 non-null   int64  \n",
      " 60  BsmtFinType1   1459 non-null   int64  \n",
      " 61  BsmtFinType2   1459 non-null   int64  \n",
      " 62  Heating        1459 non-null   object \n",
      " 63  HeatingQC      1459 non-null   object \n",
      " 64  CentralAir     1459 non-null   object \n",
      " 65  Electrical     1459 non-null   object \n",
      " 66  KitchenQual    1459 non-null   object \n",
      " 67  Functional     1459 non-null   object \n",
      " 68  FireplaceQu    1459 non-null   int64  \n",
      " 69  GarageType     1459 non-null   object \n",
      " 70  GarageFinish   1459 non-null   int64  \n",
      " 71  GarageQual     1459 non-null   int64  \n",
      " 72  GarageCond     1381 non-null   object \n",
      " 73  PavedDrive     1459 non-null   object \n",
      " 74  PoolQC         3 non-null      object \n",
      " 75  Fence          290 non-null    object \n",
      " 76  MiscFeature    51 non-null     object \n",
      " 77  SaleType       1459 non-null   object \n",
      " 78  SaleCondition  1459 non-null   object \n",
      "dtypes: float64(11), int64(33), object(35)\n",
      "memory usage: 911.9+ KB\n"
     ]
    }
   ],
   "source": [
    "dataTest.info()"
   ]
  },
  {
   "cell_type": "code",
   "execution_count": 46,
   "id": "8c634d37",
   "metadata": {
    "execution": {
     "iopub.execute_input": "2023-06-27T03:39:59.477600Z",
     "iopub.status.busy": "2023-06-27T03:39:59.476760Z",
     "iopub.status.idle": "2023-06-27T03:39:59.485730Z",
     "shell.execute_reply": "2023-06-27T03:39:59.484939Z"
    },
    "papermill": {
     "duration": 0.038846,
     "end_time": "2023-06-27T03:39:59.487884",
     "exception": false,
     "start_time": "2023-06-27T03:39:59.449038",
     "status": "completed"
    },
    "tags": []
   },
   "outputs": [
    {
     "name": "stdout",
     "output_type": "stream",
     "text": [
      "1061 examples in training, 399 examples in testing.\n"
     ]
    }
   ],
   "source": [
    "# 參考tutorial的方法\n",
    "## tensorflow or sklearn\n",
    "\n",
    "def split_data(data, test_ratio=0.30):\n",
    "  test_indices = np.random.rand(len(data)) < test_ratio\n",
    "  return data[~test_indices], data[test_indices]\n",
    "\n",
    "train_ds_pd, valid_ds_pd = split_data(dataTrain)\n",
    "print(\"{} examples in training, {} examples in testing.\".format(\n",
    "    len(train_ds_pd), len(valid_ds_pd)))"
   ]
  },
  {
   "cell_type": "code",
   "execution_count": 47,
   "id": "0f8ddccf",
   "metadata": {
    "execution": {
     "iopub.execute_input": "2023-06-27T03:39:59.543458Z",
     "iopub.status.busy": "2023-06-27T03:39:59.542445Z",
     "iopub.status.idle": "2023-06-27T03:39:59.904963Z",
     "shell.execute_reply": "2023-06-27T03:39:59.903933Z"
    },
    "papermill": {
     "duration": 0.392796,
     "end_time": "2023-06-27T03:39:59.907664",
     "exception": false,
     "start_time": "2023-06-27T03:39:59.514868",
     "status": "completed"
    },
    "tags": []
   },
   "outputs": [],
   "source": [
    "# 把資料從pandas資料形式轉換成tensorflow的資料形式\n",
    "\n",
    "label = 'SalePrice'\n",
    "train_ds = tfdf.keras.pd_dataframe_to_tf_dataset(train_ds_pd, label=label, task = tfdf.keras.Task.REGRESSION)\n",
    "valid_ds = tfdf.keras.pd_dataframe_to_tf_dataset(valid_ds_pd, label=label, task = tfdf.keras.Task.REGRESSION)"
   ]
  },
  {
   "cell_type": "code",
   "execution_count": 48,
   "id": "7570299c",
   "metadata": {
    "execution": {
     "iopub.execute_input": "2023-06-27T03:39:59.962158Z",
     "iopub.status.busy": "2023-06-27T03:39:59.961773Z",
     "iopub.status.idle": "2023-06-27T03:39:59.969858Z",
     "shell.execute_reply": "2023-06-27T03:39:59.968756Z"
    },
    "papermill": {
     "duration": 0.038183,
     "end_time": "2023-06-27T03:39:59.972088",
     "exception": false,
     "start_time": "2023-06-27T03:39:59.933905",
     "status": "completed"
    },
    "tags": []
   },
   "outputs": [
    {
     "data": {
      "text/plain": [
       "Index(['MSSubClass', 'LotFrontage', 'LotArea', 'OverallQual', 'OverallCond',\n",
       "       'YearBuilt', 'YearRemodAdd', 'MasVnrArea', 'BsmtFinSF1', 'BsmtFinSF2',\n",
       "       'BsmtUnfSF', 'TotalBsmtSF', '1stFlrSF', '2ndFlrSF', 'LowQualFinSF',\n",
       "       'GrLivArea', 'BsmtFullBath', 'BsmtHalfBath', 'FullBath', 'HalfBath',\n",
       "       'BedroomAbvGr', 'KitchenAbvGr', 'TotRmsAbvGrd', 'Fireplaces',\n",
       "       'GarageYrBlt', 'GarageCars', 'GarageArea', 'WoodDeckSF', 'OpenPorchSF',\n",
       "       'EnclosedPorch', '3SsnPorch', 'ScreenPorch', 'PoolArea', 'MiscVal',\n",
       "       'MoSold', 'YrSold', 'MSZoning', 'Street', 'Alley', 'LotShape',\n",
       "       'LandContour', 'Utilities', 'LotConfig', 'LandSlope', 'Neighborhood',\n",
       "       'Condition1', 'Condition2', 'BldgType', 'HouseStyle', 'RoofStyle',\n",
       "       'RoofMatl', 'Exterior1st', 'Exterior2nd', 'MasVnrType', 'ExterQual',\n",
       "       'ExterCond', 'Foundation', 'BsmtQual', 'BsmtCond', 'BsmtExposure',\n",
       "       'BsmtFinType1', 'BsmtFinType2', 'Heating', 'HeatingQC', 'CentralAir',\n",
       "       'Electrical', 'KitchenQual', 'Functional', 'FireplaceQu', 'GarageType',\n",
       "       'GarageFinish', 'GarageQual', 'GarageCond', 'PavedDrive', 'PoolQC',\n",
       "       'Fence', 'MiscFeature', 'SaleType', 'SaleCondition'],\n",
       "      dtype='object')"
      ]
     },
     "execution_count": 48,
     "metadata": {},
     "output_type": "execute_result"
    }
   ],
   "source": [
    "feature_list = train_ds_pd.columns[:-1]\n",
    "feature_list"
   ]
  },
  {
   "cell_type": "code",
   "execution_count": 49,
   "id": "5fa97bb7",
   "metadata": {
    "execution": {
     "iopub.execute_input": "2023-06-27T03:40:00.027633Z",
     "iopub.status.busy": "2023-06-27T03:40:00.026699Z",
     "iopub.status.idle": "2023-06-27T03:40:00.032859Z",
     "shell.execute_reply": "2023-06-27T03:40:00.031766Z"
    },
    "papermill": {
     "duration": 0.036468,
     "end_time": "2023-06-27T03:40:00.035231",
     "exception": false,
     "start_time": "2023-06-27T03:39:59.998763",
     "status": "completed"
    },
    "tags": []
   },
   "outputs": [],
   "source": [
    "## 設定特徵權重的字典 feature_weights\n",
    "\n",
    "## 創建一個空的特徵權重字典\n",
    "feature_weights = {}\n",
    "\n",
    "## 使用迴圈設定每個特徵的初始權重\n",
    "for feature in feature_list:\n",
    "    feature_weights[feature] = 1.0\n",
    "\n",
    "## 調整特定特徵的權重\n",
    "## 相關度較高的數值特徵\n",
    "for feature in num_selected_features:\n",
    "    feature_weights[feature] = 3.0\n",
    "    \n",
    "# ## 同類別占比高於九成的特徵\n",
    "# for feature in obj_drop:\n",
    "#     feature_weights[feature] = 0.5"
   ]
  },
  {
   "cell_type": "code",
   "execution_count": 50,
   "id": "cf42a1b3",
   "metadata": {
    "execution": {
     "iopub.execute_input": "2023-06-27T03:40:00.092021Z",
     "iopub.status.busy": "2023-06-27T03:40:00.091647Z",
     "iopub.status.idle": "2023-06-27T03:40:00.158709Z",
     "shell.execute_reply": "2023-06-27T03:40:00.157413Z"
    },
    "papermill": {
     "duration": 0.098081,
     "end_time": "2023-06-27T03:40:00.161390",
     "exception": false,
     "start_time": "2023-06-27T03:40:00.063309",
     "status": "completed"
    },
    "tags": []
   },
   "outputs": [
    {
     "name": "stdout",
     "output_type": "stream",
     "text": [
      "Use /tmp/tmpum4d9_tr as temporary training directory\n"
     ]
    }
   ],
   "source": [
    "## 建立RandomForestModel的模型\n",
    "## 將特徵權重的字典套入模型內\n",
    "## 使用Mean Squared Error作為模型的評估指標\n",
    "\n",
    "rf = tfdf.keras.RandomForestModel(task = tfdf.keras.Task.REGRESSION)\n",
    "rf.feature_weights = feature_weights\n",
    "rf.compile(metrics=[\"mse\"])"
   ]
  },
  {
   "cell_type": "code",
   "execution_count": 51,
   "id": "5faf5590",
   "metadata": {
    "execution": {
     "iopub.execute_input": "2023-06-27T03:40:00.218724Z",
     "iopub.status.busy": "2023-06-27T03:40:00.218214Z",
     "iopub.status.idle": "2023-06-27T03:40:14.360379Z",
     "shell.execute_reply": "2023-06-27T03:40:14.359278Z"
    },
    "papermill": {
     "duration": 14.173771,
     "end_time": "2023-06-27T03:40:14.362893",
     "exception": false,
     "start_time": "2023-06-27T03:40:00.189122",
     "status": "completed"
    },
    "tags": []
   },
   "outputs": [
    {
     "name": "stdout",
     "output_type": "stream",
     "text": [
      "Reading training dataset...\n",
      "Training dataset read in 0:00:08.377806. Found 1061 examples.\n",
      "Training model...\n"
     ]
    },
    {
     "name": "stderr",
     "output_type": "stream",
     "text": [
      "[INFO 23-06-27 03:40:10.4596 UTC kernel.cc:1242] Loading model from path /tmp/tmpum4d9_tr/model/ with prefix 0f043506ff18404b\n"
     ]
    },
    {
     "name": "stdout",
     "output_type": "stream",
     "text": [
      "Model trained in 0:00:02.313828\n",
      "Compiling model...\n"
     ]
    },
    {
     "name": "stderr",
     "output_type": "stream",
     "text": [
      "[INFO 23-06-27 03:40:10.8832 UTC decision_forest.cc:660] Model loaded with 300 root(s), 101076 node(s), and 73 input feature(s).\n",
      "[INFO 23-06-27 03:40:10.8832 UTC abstract_model.cc:1311] Engine \"RandomForestOptPred\" built\n",
      "[INFO 23-06-27 03:40:10.8833 UTC kernel.cc:1074] Use fast generic engine\n"
     ]
    },
    {
     "name": "stdout",
     "output_type": "stream",
     "text": [
      "WARNING: AutoGraph could not transform <function simple_ml_inference_op_with_handle at 0x78d938611f30> and will run it as-is.\n",
      "Please report this to the TensorFlow team. When filing the bug, set the verbosity to 10 (on Linux, `export AUTOGRAPH_VERBOSITY=10`) and attach the full output.\n",
      "Cause: could not get source code\n",
      "To silence this warning, decorate the function with @tf.autograph.experimental.do_not_convert\n",
      "Model compiled.\n"
     ]
    },
    {
     "data": {
      "text/plain": [
       "<keras.callbacks.History at 0x78d9346775b0>"
      ]
     },
     "execution_count": 51,
     "metadata": {},
     "output_type": "execute_result"
    }
   ],
   "source": [
    "## 訓練模型\n",
    "\n",
    "rf.fit(x=train_ds)"
   ]
  },
  {
   "cell_type": "code",
   "execution_count": 52,
   "id": "1d4329fa",
   "metadata": {
    "execution": {
     "iopub.execute_input": "2023-06-27T03:40:14.420252Z",
     "iopub.status.busy": "2023-06-27T03:40:14.419853Z",
     "iopub.status.idle": "2023-06-27T03:40:14.609452Z",
     "shell.execute_reply": "2023-06-27T03:40:14.608312Z"
    },
    "papermill": {
     "duration": 0.220809,
     "end_time": "2023-06-27T03:40:14.611879",
     "exception": false,
     "start_time": "2023-06-27T03:40:14.391070",
     "status": "completed"
    },
    "tags": []
   },
   "outputs": [
    {
     "data": {
      "image/png": "[encoded data removed]",
      "text/plain": [
       "<Figure size 640x480 with 1 Axes>"
      ]
     },
     "metadata": {},
     "output_type": "display_data"
    }
   ],
   "source": [
    "logs = rf.make_inspector().training_logs()\n",
    "plt.plot([log.num_trees for log in logs], [log.evaluation.rmse for log in logs])\n",
    "plt.xlabel(\"Number of trees\")\n",
    "plt.ylabel(\"RMSE (out-of-bag)\")\n",
    "plt.show()"
   ]
  },
  {
   "cell_type": "code",
   "execution_count": 53,
   "id": "ad53734c",
   "metadata": {
    "execution": {
     "iopub.execute_input": "2023-06-27T03:40:14.669763Z",
     "iopub.status.busy": "2023-06-27T03:40:14.669350Z",
     "iopub.status.idle": "2023-06-27T03:40:14.678177Z",
     "shell.execute_reply": "2023-06-27T03:40:14.677408Z"
    },
    "papermill": {
     "duration": 0.040264,
     "end_time": "2023-06-27T03:40:14.680417",
     "exception": false,
     "start_time": "2023-06-27T03:40:14.640153",
     "status": "completed"
    },
    "tags": []
   },
   "outputs": [
    {
     "data": {
      "text/plain": [
       "Evaluation(num_examples=1061, accuracy=None, loss=None, rmse=31003.343656899597, ndcg=None, aucs=None, auuc=None, qini=None)"
      ]
     },
     "execution_count": 53,
     "metadata": {},
     "output_type": "execute_result"
    }
   ],
   "source": [
    "inspector = rf.make_inspector()\n",
    "inspector.evaluation()"
   ]
  },
  {
   "cell_type": "code",
   "execution_count": 54,
   "id": "c8ae93db",
   "metadata": {
    "execution": {
     "iopub.execute_input": "2023-06-27T03:40:14.740015Z",
     "iopub.status.busy": "2023-06-27T03:40:14.739642Z",
     "iopub.status.idle": "2023-06-27T03:40:15.538665Z",
     "shell.execute_reply": "2023-06-27T03:40:15.537731Z"
    },
    "papermill": {
     "duration": 0.832038,
     "end_time": "2023-06-27T03:40:15.541030",
     "exception": false,
     "start_time": "2023-06-27T03:40:14.708992",
     "status": "completed"
    },
    "tags": []
   },
   "outputs": [
    {
     "name": "stdout",
     "output_type": "stream",
     "text": [
      "1/1 [==============================] - 1s 785ms/step - loss: 0.0000e+00 - mse: 579913664.0000\n",
      "loss: 0.0000\n",
      "mse: 579913664.0000\n"
     ]
    }
   ],
   "source": [
    "evaluation = rf.evaluate(x=valid_ds,return_dict=True)\n",
    "\n",
    "for name, value in evaluation.items():\n",
    "  print(f\"{name}: {value:.4f}\")"
   ]
  },
  {
   "cell_type": "code",
   "execution_count": 55,
   "id": "e32dcd15",
   "metadata": {
    "execution": {
     "iopub.execute_input": "2023-06-27T03:40:15.600411Z",
     "iopub.status.busy": "2023-06-27T03:40:15.600020Z",
     "iopub.status.idle": "2023-06-27T03:40:16.075370Z",
     "shell.execute_reply": "2023-06-27T03:40:16.074207Z"
    },
    "papermill": {
     "duration": 0.508378,
     "end_time": "2023-06-27T03:40:16.078211",
     "exception": false,
     "start_time": "2023-06-27T03:40:15.569833",
     "status": "completed"
    },
    "tags": []
   },
   "outputs": [
    {
     "name": "stdout",
     "output_type": "stream",
     "text": [
      "2/2 [==============================] - 0s 23ms/step\n"
     ]
    },
    {
     "data": {
      "text/html": [
       "<div>\n",
       "<style scoped>\n",
       "    .dataframe tbody tr th:only-of-type {\n",
       "        vertical-align: middle;\n",
       "    }\n",
       "\n",
       "    .dataframe tbody tr th {\n",
       "        vertical-align: top;\n",
       "    }\n",
       "\n",
       "    .dataframe thead th {\n",
       "        text-align: right;\n",
       "    }\n",
       "</style>\n",
       "<table border=\"1\" class=\"dataframe\">\n",
       "  <thead>\n",
       "    <tr style=\"text-align: right;\">\n",
       "      <th></th>\n",
       "      <th>Id</th>\n",
       "      <th>SalePrice</th>\n",
       "    </tr>\n",
       "  </thead>\n",
       "  <tbody>\n",
       "    <tr>\n",
       "      <th>0</th>\n",
       "      <td>1461</td>\n",
       "      <td>125839.914062</td>\n",
       "    </tr>\n",
       "    <tr>\n",
       "      <th>1</th>\n",
       "      <td>1462</td>\n",
       "      <td>154172.406250</td>\n",
       "    </tr>\n",
       "    <tr>\n",
       "      <th>2</th>\n",
       "      <td>1463</td>\n",
       "      <td>179190.765625</td>\n",
       "    </tr>\n",
       "    <tr>\n",
       "      <th>3</th>\n",
       "      <td>1464</td>\n",
       "      <td>182170.375000</td>\n",
       "    </tr>\n",
       "    <tr>\n",
       "      <th>4</th>\n",
       "      <td>1465</td>\n",
       "      <td>199049.187500</td>\n",
       "    </tr>\n",
       "  </tbody>\n",
       "</table>\n",
       "</div>"
      ],
      "text/plain": [
       "     Id      SalePrice\n",
       "0  1461  125839.914062\n",
       "1  1462  154172.406250\n",
       "2  1463  179190.765625\n",
       "3  1464  182170.375000\n",
       "4  1465  199049.187500"
      ]
     },
     "execution_count": 55,
     "metadata": {},
     "output_type": "execute_result"
    }
   ],
   "source": [
    "test_ds = tfdf.keras.pd_dataframe_to_tf_dataset(dataTest, task = tfdf.keras.Task.REGRESSION)\n",
    "preds = rf.predict(test_ds)\n",
    "output = pd.DataFrame({'Id': test['Id'], 'SalePrice': preds.squeeze()})\n",
    "\n",
    "output.head()"
   ]
  },
  {
   "cell_type": "code",
   "execution_count": 56,
   "id": "463219da",
   "metadata": {
    "execution": {
     "iopub.execute_input": "2023-06-27T03:40:16.137938Z",
     "iopub.status.busy": "2023-06-27T03:40:16.137551Z",
     "iopub.status.idle": "2023-06-27T03:40:16.457790Z",
     "shell.execute_reply": "2023-06-27T03:40:16.456547Z"
    },
    "papermill": {
     "duration": 0.353027,
     "end_time": "2023-06-27T03:40:16.460151",
     "exception": false,
     "start_time": "2023-06-27T03:40:16.107124",
     "status": "completed"
    },
    "tags": []
   },
   "outputs": [
    {
     "name": "stdout",
     "output_type": "stream",
     "text": [
      "2/2 [==============================] - 0s 23ms/step\n"
     ]
    },
    {
     "data": {
      "text/html": [
       "<div>\n",
       "<style scoped>\n",
       "    .dataframe tbody tr th:only-of-type {\n",
       "        vertical-align: middle;\n",
       "    }\n",
       "\n",
       "    .dataframe tbody tr th {\n",
       "        vertical-align: top;\n",
       "    }\n",
       "\n",
       "    .dataframe thead th {\n",
       "        text-align: right;\n",
       "    }\n",
       "</style>\n",
       "<table border=\"1\" class=\"dataframe\">\n",
       "  <thead>\n",
       "    <tr style=\"text-align: right;\">\n",
       "      <th></th>\n",
       "      <th>Id</th>\n",
       "      <th>SalePrice</th>\n",
       "    </tr>\n",
       "  </thead>\n",
       "  <tbody>\n",
       "    <tr>\n",
       "      <th>0</th>\n",
       "      <td>1461</td>\n",
       "      <td>125839.914062</td>\n",
       "    </tr>\n",
       "    <tr>\n",
       "      <th>1</th>\n",
       "      <td>1462</td>\n",
       "      <td>154172.406250</td>\n",
       "    </tr>\n",
       "    <tr>\n",
       "      <th>2</th>\n",
       "      <td>1463</td>\n",
       "      <td>179190.765625</td>\n",
       "    </tr>\n",
       "    <tr>\n",
       "      <th>3</th>\n",
       "      <td>1464</td>\n",
       "      <td>182170.375000</td>\n",
       "    </tr>\n",
       "    <tr>\n",
       "      <th>4</th>\n",
       "      <td>1465</td>\n",
       "      <td>199049.187500</td>\n",
       "    </tr>\n",
       "  </tbody>\n",
       "</table>\n",
       "</div>"
      ],
      "text/plain": [
       "     Id      SalePrice\n",
       "0  1461  125839.914062\n",
       "1  1462  154172.406250\n",
       "2  1463  179190.765625\n",
       "3  1464  182170.375000\n",
       "4  1465  199049.187500"
      ]
     },
     "execution_count": 56,
     "metadata": {},
     "output_type": "execute_result"
    }
   ],
   "source": [
    "submit['SalePrice'] = rf.predict(test_ds)\n",
    "submit.to_csv('/kaggle/working/submission.csv', index=False)\n",
    "submit.head()"
   ]
  }
 ],
 "metadata": {
  "kernelspec": {
   "display_name": "Python 3",
   "language": "python",
   "name": "python3"
  },
  "language_info": {
   "codemirror_mode": {
    "name": "ipython",
    "version": 3
   },
   "file_extension": ".py",
   "mimetype": "text/x-python",
   "name": "python",
   "nbconvert_exporter": "python",
   "pygments_lexer": "ipython3",
   "version": "3.10.10"
  },
  "papermill": {
   "default_parameters": {},
   "duration": 57.823138,
   "end_time": "2023-06-27T03:40:19.224279",
   "environment_variables": {},
   "exception": null,
   "input_path": "__notebook__.ipynb",
   "output_path": "__notebook__.ipynb",
   "parameters": {},
   "start_time": "2023-06-27T03:39:21.401141",
   "version": "2.4.0"
  }
 },
 "nbformat": 4,
 "nbformat_minor": 5
}
